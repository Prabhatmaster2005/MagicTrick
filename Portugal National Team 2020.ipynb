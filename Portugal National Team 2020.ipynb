{
 "cells": [
  {
   "cell_type": "code",
   "execution_count": 21,
   "metadata": {
    "ExecuteTime": {
     "end_time": "2020-08-09T05:38:20.899181Z",
     "start_time": "2020-08-09T05:38:20.885436Z"
    }
   },
   "outputs": [],
   "source": [
    "import pandas as pd\n",
    "import numpy as np\n",
    "import matplotlib.pyplot as plt"
   ]
  },
  {
   "cell_type": "code",
   "execution_count": 22,
   "metadata": {
    "ExecuteTime": {
     "end_time": "2020-08-09T05:38:50.882171Z",
     "start_time": "2020-08-09T05:38:50.832802Z"
    }
   },
   "outputs": [
    {
     "data": {
      "text/html": [
       "<div>\n",
       "<style scoped>\n",
       "    .dataframe tbody tr th:only-of-type {\n",
       "        vertical-align: middle;\n",
       "    }\n",
       "\n",
       "    .dataframe tbody tr th {\n",
       "        vertical-align: top;\n",
       "    }\n",
       "\n",
       "    .dataframe thead th {\n",
       "        text-align: right;\n",
       "    }\n",
       "</style>\n",
       "<table border=\"1\" class=\"dataframe\">\n",
       "  <thead>\n",
       "    <tr style=\"text-align: right;\">\n",
       "      <th></th>\n",
       "      <th>#</th>\n",
       "      <th>Player</th>\n",
       "      <th>Position</th>\n",
       "      <th>Age</th>\n",
       "      <th>Market value</th>\n",
       "    </tr>\n",
       "  </thead>\n",
       "  <tbody>\n",
       "    <tr>\n",
       "      <th>0</th>\n",
       "      <td>12</td>\n",
       "      <td>José Sá</td>\n",
       "      <td>Goalkeeper</td>\n",
       "      <td>27</td>\n",
       "      <td>€6.00m</td>\n",
       "    </tr>\n",
       "    <tr>\n",
       "      <th>1</th>\n",
       "      <td>22</td>\n",
       "      <td>Beto</td>\n",
       "      <td>Goalkeeper</td>\n",
       "      <td>38</td>\n",
       "      <td>€500Th.</td>\n",
       "    </tr>\n",
       "    <tr>\n",
       "      <th>2</th>\n",
       "      <td>4</td>\n",
       "      <td>Rúben Dias</td>\n",
       "      <td>Centre-back</td>\n",
       "      <td>23</td>\n",
       "      <td>€30.50m</td>\n",
       "    </tr>\n",
       "    <tr>\n",
       "      <th>3</th>\n",
       "      <td>17</td>\n",
       "      <td>Domingos Duarte</td>\n",
       "      <td>Centre-back</td>\n",
       "      <td>25</td>\n",
       "      <td>€8.00m</td>\n",
       "    </tr>\n",
       "    <tr>\n",
       "      <th>4</th>\n",
       "      <td>3</td>\n",
       "      <td>Rúben Semedo</td>\n",
       "      <td>Centre-back</td>\n",
       "      <td>26</td>\n",
       "      <td>€7.00m</td>\n",
       "    </tr>\n",
       "  </tbody>\n",
       "</table>\n",
       "</div>"
      ],
      "text/plain": [
       "    #           Player     Position  Age Market value\n",
       "0  12         José Sá    Goalkeeper   27       €6.00m\n",
       "1  22            Beto    Goalkeeper   38      €500Th.\n",
       "2   4       Rúben Dias  Centre-back   23      €30.50m\n",
       "3  17  Domingos Duarte  Centre-back   25       €8.00m\n",
       "4   3     Rúben Semedo  Centre-back   26       €7.00m"
      ]
     },
     "execution_count": 22,
     "metadata": {},
     "output_type": "execute_result"
    }
   ],
   "source": [
    "file = 'Portugal National Team.xlsx'\n",
    "df = pd.read_excel(file)\n",
    "df.head()"
   ]
  },
  {
   "cell_type": "code",
   "execution_count": 36,
   "metadata": {
    "ExecuteTime": {
     "end_time": "2020-08-09T05:47:13.779416Z",
     "start_time": "2020-08-09T05:47:13.746813Z"
    }
   },
   "outputs": [
    {
     "data": {
      "text/html": [
       "<div>\n",
       "<style scoped>\n",
       "    .dataframe tbody tr th:only-of-type {\n",
       "        vertical-align: middle;\n",
       "    }\n",
       "\n",
       "    .dataframe tbody tr th {\n",
       "        vertical-align: top;\n",
       "    }\n",
       "\n",
       "    .dataframe thead th {\n",
       "        text-align: right;\n",
       "    }\n",
       "</style>\n",
       "<table border=\"1\" class=\"dataframe\">\n",
       "  <thead>\n",
       "    <tr style=\"text-align: right;\">\n",
       "      <th></th>\n",
       "      <th>#</th>\n",
       "      <th>Player</th>\n",
       "    </tr>\n",
       "  </thead>\n",
       "  <tbody>\n",
       "    <tr>\n",
       "      <th>0</th>\n",
       "      <td>12</td>\n",
       "      <td>José Sá</td>\n",
       "    </tr>\n",
       "    <tr>\n",
       "      <th>1</th>\n",
       "      <td>22</td>\n",
       "      <td>Beto</td>\n",
       "    </tr>\n",
       "    <tr>\n",
       "      <th>2</th>\n",
       "      <td>4</td>\n",
       "      <td>Rúben Dias</td>\n",
       "    </tr>\n",
       "    <tr>\n",
       "      <th>3</th>\n",
       "      <td>17</td>\n",
       "      <td>Domingos Duarte</td>\n",
       "    </tr>\n",
       "    <tr>\n",
       "      <th>4</th>\n",
       "      <td>3</td>\n",
       "      <td>Rúben Semedo</td>\n",
       "    </tr>\n",
       "    <tr>\n",
       "      <th>5</th>\n",
       "      <td>6</td>\n",
       "      <td>José Fonte</td>\n",
       "    </tr>\n",
       "    <tr>\n",
       "      <th>6</th>\n",
       "      <td>19</td>\n",
       "      <td>Mário Rui</td>\n",
       "    </tr>\n",
       "    <tr>\n",
       "      <th>7</th>\n",
       "      <td>2</td>\n",
       "      <td>João Cancelo</td>\n",
       "    </tr>\n",
       "    <tr>\n",
       "      <th>8</th>\n",
       "      <td>15</td>\n",
       "      <td>Ricardo Pereira</td>\n",
       "    </tr>\n",
       "    <tr>\n",
       "      <th>9</th>\n",
       "      <td>18</td>\n",
       "      <td>Rúben Neves</td>\n",
       "    </tr>\n",
       "    <tr>\n",
       "      <th>10</th>\n",
       "      <td>13</td>\n",
       "      <td>Danilo Pereira</td>\n",
       "    </tr>\n",
       "    <tr>\n",
       "      <th>11</th>\n",
       "      <td>8</td>\n",
       "      <td>João Moutinho</td>\n",
       "    </tr>\n",
       "    <tr>\n",
       "      <th>12</th>\n",
       "      <td>21</td>\n",
       "      <td>Pizzi</td>\n",
       "    </tr>\n",
       "    <tr>\n",
       "      <th>13</th>\n",
       "      <td>5</td>\n",
       "      <td>Raphaël Guerreiro</td>\n",
       "    </tr>\n",
       "    <tr>\n",
       "      <th>14</th>\n",
       "      <td>10</td>\n",
       "      <td>Bernardo Silva</td>\n",
       "    </tr>\n",
       "    <tr>\n",
       "      <th>15</th>\n",
       "      <td>16</td>\n",
       "      <td>Bruno Fernandes</td>\n",
       "    </tr>\n",
       "    <tr>\n",
       "      <th>16</th>\n",
       "      <td>7</td>\n",
       "      <td>Cristiano Ronaldo</td>\n",
       "    </tr>\n",
       "    <tr>\n",
       "      <th>17</th>\n",
       "      <td>20</td>\n",
       "      <td>Diogo Jota</td>\n",
       "    </tr>\n",
       "    <tr>\n",
       "      <th>18</th>\n",
       "      <td>11</td>\n",
       "      <td>Bruma</td>\n",
       "    </tr>\n",
       "    <tr>\n",
       "      <th>19</th>\n",
       "      <td>23</td>\n",
       "      <td>André Silva</td>\n",
       "    </tr>\n",
       "    <tr>\n",
       "      <th>20</th>\n",
       "      <td>14</td>\n",
       "      <td>Gonçalo Paciência</td>\n",
       "    </tr>\n",
       "    <tr>\n",
       "      <th>21</th>\n",
       "      <td>9</td>\n",
       "      <td>Éder</td>\n",
       "    </tr>\n",
       "  </tbody>\n",
       "</table>\n",
       "</div>"
      ],
      "text/plain": [
       "     #              Player\n",
       "0   12            José Sá \n",
       "1   22               Beto \n",
       "2    4          Rúben Dias\n",
       "3   17     Domingos Duarte\n",
       "4    3        Rúben Semedo\n",
       "5    6         José Fonte \n",
       "6   19          Mário Rui \n",
       "7    2        João Cancelo\n",
       "8   15    Ricardo Pereira \n",
       "9   18         Rúben Neves\n",
       "10  13     Danilo Pereira \n",
       "11   8      João Moutinho \n",
       "12  21               Pizzi\n",
       "13   5  Raphaël Guerreiro \n",
       "14  10      Bernardo Silva\n",
       "15  16    Bruno Fernandes \n",
       "16   7   Cristiano Ronaldo\n",
       "17  20         Diogo Jota \n",
       "18  11              Bruma \n",
       "19  23         André Silva\n",
       "20  14   Gonçalo Paciência\n",
       "21   9               Éder "
      ]
     },
     "execution_count": 36,
     "metadata": {},
     "output_type": "execute_result"
    }
   ],
   "source": [
    "df1 = df[['#', 'Player']]\n",
    "df1"
   ]
  },
  {
   "cell_type": "code",
   "execution_count": 38,
   "metadata": {
    "ExecuteTime": {
     "end_time": "2020-08-09T05:47:33.650297Z",
     "start_time": "2020-08-09T05:47:33.641167Z"
    }
   },
   "outputs": [
    {
     "data": {
      "text/plain": [
       "array([[12, 'José Sá '],\n",
       "       [22, 'Beto '],\n",
       "       [4, 'Rúben Dias'],\n",
       "       [17, 'Domingos Duarte'],\n",
       "       [3, 'Rúben Semedo'],\n",
       "       [6, 'José Fonte '],\n",
       "       [19, 'Mário Rui '],\n",
       "       [2, 'João Cancelo'],\n",
       "       [15, 'Ricardo Pereira '],\n",
       "       [18, 'Rúben Neves'],\n",
       "       [13, 'Danilo Pereira '],\n",
       "       [8, 'João Moutinho '],\n",
       "       [21, 'Pizzi'],\n",
       "       [5, 'Raphaël Guerreiro '],\n",
       "       [10, 'Bernardo Silva'],\n",
       "       [16, 'Bruno Fernandes '],\n",
       "       [7, 'Cristiano Ronaldo'],\n",
       "       [20, 'Diogo Jota '],\n",
       "       [11, 'Bruma '],\n",
       "       [23, 'André Silva'],\n",
       "       [14, 'Gonçalo Paciência'],\n",
       "       [9, 'Éder ']], dtype=object)"
      ]
     },
     "execution_count": 38,
     "metadata": {},
     "output_type": "execute_result"
    }
   ],
   "source": [
    "df1.values"
   ]
  },
  {
   "cell_type": "code",
   "execution_count": 40,
   "metadata": {
    "ExecuteTime": {
     "end_time": "2020-08-09T05:59:54.451041Z",
     "start_time": "2020-08-09T05:59:53.949717Z"
    }
   },
   "outputs": [
    {
     "data": {
      "text/plain": [
       "[[2, 'João Cancelo'],\n",
       " [3, 'Rúben Semedo'],\n",
       " [4, 'Rúben Dias'],\n",
       " [5, 'Raphaël Guerreiro '],\n",
       " [6, 'José Fonte '],\n",
       " [7, 'Cristiano Ronaldo'],\n",
       " [8, 'João Moutinho '],\n",
       " [9, 'Éder '],\n",
       " [10, 'Bernardo Silva'],\n",
       " [11, 'Bruma '],\n",
       " [12, 'José Sá '],\n",
       " [13, 'Danilo Pereira '],\n",
       " [14, 'Gonçalo Paciência'],\n",
       " [15, 'Ricardo Pereira '],\n",
       " [16, 'Bruno Fernandes '],\n",
       " [17, 'Domingos Duarte'],\n",
       " [18, 'Rúben Neves'],\n",
       " [19, 'Mário Rui '],\n",
       " [20, 'Diogo Jota '],\n",
       " [21, 'Pizzi'],\n",
       " [22, 'Beto '],\n",
       " [23, 'André Silva']]"
      ]
     },
     "execution_count": 40,
     "metadata": {},
     "output_type": "execute_result"
    }
   ],
   "source": [
    "sorted(df1.values.tolist())"
   ]
  },
  {
   "cell_type": "code",
   "execution_count": 44,
   "metadata": {
    "ExecuteTime": {
     "end_time": "2020-08-09T06:02:10.704037Z",
     "start_time": "2020-08-09T06:02:10.618041Z"
    }
   },
   "outputs": [
    {
     "data": {
      "text/plain": [
       "[[23, 'André Silva'],\n",
       " [10, 'Bernardo Silva'],\n",
       " [22, 'Beto '],\n",
       " [11, 'Bruma '],\n",
       " [16, 'Bruno Fernandes '],\n",
       " [7, 'Cristiano Ronaldo'],\n",
       " [13, 'Danilo Pereira '],\n",
       " [20, 'Diogo Jota '],\n",
       " [17, 'Domingos Duarte'],\n",
       " [14, 'Gonçalo Paciência'],\n",
       " [6, 'José Fonte '],\n",
       " [12, 'José Sá '],\n",
       " [2, 'João Cancelo'],\n",
       " [8, 'João Moutinho '],\n",
       " [19, 'Mário Rui '],\n",
       " [21, 'Pizzi'],\n",
       " [5, 'Raphaël Guerreiro '],\n",
       " [15, 'Ricardo Pereira '],\n",
       " [4, 'Rúben Dias'],\n",
       " [18, 'Rúben Neves'],\n",
       " [3, 'Rúben Semedo'],\n",
       " [9, 'Éder ']]"
      ]
     },
     "execution_count": 44,
     "metadata": {},
     "output_type": "execute_result"
    }
   ],
   "source": [
    "from operator import itemgetter\n",
    "a = sorted(df1.values.tolist(), key=itemgetter(1))\n",
    "a"
   ]
  },
  {
   "cell_type": "code",
   "execution_count": 47,
   "metadata": {
    "ExecuteTime": {
     "end_time": "2020-08-09T06:02:52.389598Z",
     "start_time": "2020-08-09T06:02:52.382567Z"
    }
   },
   "outputs": [],
   "source": [
    "Ndict = dict(sorted(a))"
   ]
  },
  {
   "cell_type": "code",
   "execution_count": 60,
   "metadata": {
    "ExecuteTime": {
     "end_time": "2020-08-09T06:44:38.076788Z",
     "start_time": "2020-08-09T06:44:36.569173Z"
    }
   },
   "outputs": [
    {
     "name": "stdout",
     "output_type": "stream",
     "text": [
      "Enter the jersey number of the player you wish to see7\n"
     ]
    },
    {
     "data": {
      "text/plain": [
       "'Cristiano Ronaldo'"
      ]
     },
     "execution_count": 60,
     "metadata": {},
     "output_type": "execute_result"
    }
   ],
   "source": [
    "k = input(\"Enter the jersey number of the player you wish to see\")\n",
    "k = int(k)\n",
    "Ndict[k]"
   ]
  },
  {
   "cell_type": "code",
   "execution_count": 51,
   "metadata": {
    "ExecuteTime": {
     "end_time": "2020-08-09T06:20:33.565824Z",
     "start_time": "2020-08-09T06:20:32.261089Z"
    }
   },
   "outputs": [
    {
     "data": {
      "text/plain": [
       "27.772727272727273"
      ]
     },
     "execution_count": 51,
     "metadata": {},
     "output_type": "execute_result"
    }
   ],
   "source": [
    "df['Age'].mean()"
   ]
  },
  {
   "cell_type": "code",
   "execution_count": 52,
   "metadata": {
    "ExecuteTime": {
     "end_time": "2020-08-09T06:20:45.008234Z",
     "start_time": "2020-08-09T06:20:44.214046Z"
    }
   },
   "outputs": [
    {
     "data": {
      "text/plain": [
       "Centre-back           4\n",
       "Left Winger           3\n",
       "Centre-Forward        3\n",
       "Right-back            2\n",
       "Goalkeeper            2\n",
       "Defensive Midfield    2\n",
       "Attacking Midfield    2\n",
       "Right Midfield        1\n",
       "Central Midfield      1\n",
       "Left Midfield         1\n",
       "Left-back             1\n",
       "Name: Position, dtype: int64"
      ]
     },
     "execution_count": 52,
     "metadata": {},
     "output_type": "execute_result"
    }
   ],
   "source": [
    "df['Position'].value_counts()"
   ]
  },
  {
   "cell_type": "code",
   "execution_count": 57,
   "metadata": {
    "ExecuteTime": {
     "end_time": "2020-08-09T06:43:18.465901Z",
     "start_time": "2020-08-09T06:43:17.112835Z"
    }
   },
   "outputs": [
    {
     "data": {
      "image/png": "[encoded data removed]",
      "text/plain": [
       "<Figure size 1152x720 with 1 Axes>"
      ]
     },
     "metadata": {
      "needs_background": "light"
     },
     "output_type": "display_data"
    }
   ],
   "source": [
    "df['Position'].value_counts().plot(figsize = (16,10),c ='Red' , ls='', marker = 'o', ms=20)\n",
    "plt.xticks(fontsize = 25,rotation = 60)\n",
    "plt.yticks(fontsize = 25)\n",
    "plt.ylabel(\"Number of players \",fontsize = 25)\n",
    "plt.xlabel(\"Position\",fontsize = 25)\n",
    "plt.title(\"Number of players in each position\",fontsize = 40)\n",
    "plt.show()"
   ]
  },
  {
   "cell_type": "code",
   "execution_count": null,
   "metadata": {},
   "outputs": [],
   "source": []
  }
 ],
 "metadata": {
  "kernelspec": {
   "display_name": "Python 3",
   "language": "python",
   "name": "python3"
  },
  "language_info": {
   "codemirror_mode": {
    "name": "ipython",
    "version": 3
   },
   "file_extension": ".py",
   "mimetype": "text/x-python",
   "name": "python",
   "nbconvert_exporter": "python",
   "pygments_lexer": "ipython3",
   "version": "3.8.3"
  }
 },
 "nbformat": 4,
 "nbformat_minor": 4
}
