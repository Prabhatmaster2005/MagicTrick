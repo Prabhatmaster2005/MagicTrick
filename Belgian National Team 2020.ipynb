{
 "cells": [
  {
   "cell_type": "code",
   "execution_count": 1,
   "metadata": {
    "ExecuteTime": {
     "end_time": "2020-07-28T13:30:33.889262Z",
     "start_time": "2020-07-28T13:30:14.996945Z"
    }
   },
   "outputs": [],
   "source": [
    "import pandas as pd\n",
    "import matplotlib.pyplot as plt"
   ]
  },
  {
   "cell_type": "code",
   "execution_count": 50,
   "metadata": {
    "ExecuteTime": {
     "end_time": "2020-07-29T04:05:13.531350Z",
     "start_time": "2020-07-29T04:05:13.387465Z"
    }
   },
   "outputs": [],
   "source": [
    "def number(a):\n",
    "    if a ==1:\n",
    "        print('Thibaut Courtois')\n",
    "    elif a ==12:\n",
    "        print('Simon Mignolet')\n",
    "    elif a==13:\n",
    "        print('Matz Selz')\n",
    "    elif a ==30:\n",
    "        print('Hendrik Van Crombrugge')\n",
    "    elif a == 2:\n",
    "        print('Tpby Alderweireld')\n",
    "    elif a == 5:\n",
    "        print('Jason Denayer')\n",
    "    elif a == '-':\n",
    "        print('Dedryck Boyata')\n",
    "    elif a ==3:\n",
    "        print('Brandon Mechele')\n",
    "    elif a == 15:\n",
    "        print('Elias Cobbaut')\n",
    "    elif a == 21:\n",
    "        print('Timothy Castagne')\n",
    "    elif a == 6:\n",
    "        print('Leander Dendoncker')\n",
    "    elif a == 8:\n",
    "        print('Youri Tielemans')\n",
    "    elif a == 19:\n",
    "        print('Dennia Praet')\n",
    "    elif a == 7:\n",
    "        print('Kevin De Bruyne')\n",
    "    elif a == 22:\n",
    "        print('Yari Verschaeren')\n",
    "    elif a == 18:\n",
    "        print('Hans Vanaken')\n",
    "    elif a == 10:\n",
    "        print('Eden Hazard(C)')\n",
    "    elif a == 16:\n",
    "        print('Thorgan Hazard')\n",
    "    elif a == 11:\n",
    "        print('Yannick Carrasco')\n",
    "    elif a == 22:\n",
    "        print('Nacer Chadli')\n",
    "    elif a == 9:\n",
    "        print('Romelu Lukaku')\n",
    "    elif a == 14:\n",
    "        print('Dries Mertens')\n",
    "    elif a == 23:\n",
    "        print('Michy Batshuayi')\n",
    "    elif a == 17:\n",
    "        print('Divock Origi')\n",
    "    elif a == 20:\n",
    "        print('Christian Benteke')"
   ]
  },
  {
   "cell_type": "code",
   "execution_count": 51,
   "metadata": {
    "ExecuteTime": {
     "end_time": "2020-07-29T04:05:16.628814Z",
     "start_time": "2020-07-29T04:05:13.645311Z"
    }
   },
   "outputs": [
    {
     "name": "stdout",
     "output_type": "stream",
     "text": [
      "Enter the number of the player in the Belgian National Team you wish to see1\n",
      "Thibaut Courtois\n"
     ]
    }
   ],
   "source": [
    "a = input('Enter the number of the player in the Belgian National Team you wish to see ')\n",
    "a = int(a)\n",
    "number(a)"
   ]
  },
  {
   "cell_type": "code",
   "execution_count": 48,
   "metadata": {
    "ExecuteTime": {
     "end_time": "2020-07-29T04:05:00.459112Z",
     "start_time": "2020-07-29T04:05:00.369113Z"
    }
   },
   "outputs": [],
   "source": [
    "def details(z):\n",
    "    if z == 1:\n",
    "        print(\"Thibaut Courtois, Position: Goalkeeper, Market Value: ₹5.00bn\")\n",
    "    elif(z==13):\n",
    "        print(\"Matz Selz : Position: Goalkeeper ,Market Value: ₹666.56m\")\n",
    "    elif(z==12):\n",
    "        print(\"Simon Mignolet: Position: Goalkeeper ,Market Value: ₹666.56m\")\n",
    "    elif(z==30):\n",
    "        print(\"Hendrik Van Crombrugge:Position: Goalkeeper,Market Value: ₹458.26m\")\n",
    "    elif(z==2):\n",
    "        print(\"Toby Alderweireld: Position: Centre-Back ,Market Value: ₹2.00bn\")\n",
    "    elif(z==5):\n",
    "        print(\"Jason Denayer: Position: Centre-Back ,Market Value: ₹999.84m\")\n",
    "    elif(z==\"-\"):\n",
    "        print(\"Dedryck Boyata :Position: Centre-Back ,Market Value: ₹833.20m\")\n",
    "    elif(z==3):\n",
    "        print(\"Brandon Mechele: Position: Centre-Back ,Market Value:  ₹399.94m\")\n",
    "    elif(z==15):\n",
    "        print(\"Elias Cobbaut: Position: Left-Back ,Market Value: ₹233.30m\")\n",
    "    elif(z==21):\n",
    "        print(\"Timothy Castagne: Position: Right-Back ,Market Value: ₹1.33bn\")\n",
    "    elif(z==4):\n",
    "        print(\"Leander Dendoncker:Position: Defensive Midfielder ,Market Value:₹1.87bn\")\n",
    "    elif(z==6):\n",
    "        print(\"Axel Witsel:Position: Defensive Midfielder ,Market Value: ₹1.79bn\")\n",
    "    elif(z==8):\n",
    "        print(\"Youri Tielemans:Position: Central Midfielder ,Market Value:₹3.67bn \")\n",
    "    elif(z==19):\n",
    "        print(\"Dennis Praet:Position: Central Midfielder ,Market Value: ₹1.58bn \")\n",
    "    elif(z==7):\n",
    "        print(\"Kevin De Bruyne:Position: Attacking Midfielder ,Market Value:₹10.00bn \")\n",
    "    elif(z==22):\n",
    "        print(\"Yari Verschaeren:Position: Attacking Midfielder ,Market Value:₹1.12bn \")\n",
    "    elif(z==18):\n",
    "        print(\"Hans Vanaken:Position: Attacking Midfielder ,Market Value:₹999.84m \")\n",
    "    elif(z==10):\n",
    "        print(\"Eden Hazard(C):Position: Left-Winger ,Market Value: ₹6.67bn\")\n",
    "    elif(z==16):\n",
    "        print(\"Thorgan Hazard:Position: Left-Winger ,Market Value: ₹2.67bn \")\n",
    "    elif(z==11):\n",
    "        print(\"Yannick Carrasco:Position: Left-Winger ,Market Value: ₹1.87bn\")\n",
    "    elif(z==\"-\"):\n",
    "        print(\"Nacer Chadli: Position: Left-Winger,Market Value:₹666.56m\")\n",
    "    elif(z==9):\n",
    "        print(\"Romelu Lukaku: Position: Centre forward ,Market Value: ₹5.67bn\")\n",
    "    elif(z==14):\n",
    "        print(\"Dries Mertens: Position: Centre forward ,Market Value: ₹1.67bn\")\n",
    "    elif(z==23):\n",
    "        print(\"Michy Batshuayi: Position: Centre forward ,Market Value: ₹1.47bn\")\n",
    "    elif(z==17):\n",
    "        print(\"Divock Origi: Position: Centre forward ,Market Value: ₹1.33bn\")\n",
    "    elif(z==20):\n",
    "        print(\"Christian Benteke: Position: Centre forward ,Market Value: ₹874.86bn\")"
   ]
  },
  {
   "cell_type": "code",
   "execution_count": 49,
   "metadata": {
    "ExecuteTime": {
     "end_time": "2020-07-29T04:05:07.296136Z",
     "start_time": "2020-07-29T04:05:05.555540Z"
    }
   },
   "outputs": [
    {
     "name": "stdout",
     "output_type": "stream",
     "text": [
      "Enter a number of the player whose details you wsh to see2\n",
      "Toby Alderweireld: Position: Centre-Back ,Market Value: ₹2.00bn\n"
     ]
    }
   ],
   "source": [
    "z = input(\"Enter a number of the player whose details you wsh to see \")\n",
    "z = int(z)\n",
    "details(z)"
   ]
  },
  {
   "cell_type": "code",
   "execution_count": null,
   "metadata": {},
   "outputs": [],
   "source": []
  }
 ],
 "metadata": {
  "kernelspec": {
   "display_name": "Python 3",
   "language": "python",
   "name": "python3"
  },
  "language_info": {
   "codemirror_mode": {
    "name": "ipython",
    "version": 3
   },
   "file_extension": ".py",
   "mimetype": "text/x-python",
   "name": "python",
   "nbconvert_exporter": "python",
   "pygments_lexer": "ipython3",
   "version": "3.7.7"
  }
 },
 "nbformat": 4,
 "nbformat_minor": 4
}
