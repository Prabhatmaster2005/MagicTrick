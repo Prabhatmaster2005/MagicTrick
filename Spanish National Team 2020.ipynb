{
 "cells": [
  {
   "cell_type": "code",
   "execution_count": 1,
   "metadata": {
    "ExecuteTime": {
     "end_time": "2020-07-27T03:52:51.335708Z",
     "start_time": "2020-07-27T03:52:51.187711Z"
    }
   },
   "outputs": [],
   "source": [
    "import math"
   ]
  },
  {
   "cell_type": "code",
   "execution_count": 115,
   "metadata": {
    "ExecuteTime": {
     "end_time": "2020-07-27T08:04:54.363236Z",
     "start_time": "2020-07-27T08:04:54.324481Z"
    }
   },
   "outputs": [],
   "source": [
    "def number(a):\n",
    "    if a == 1:\n",
    "        print(\"David De Gea\")\n",
    "    elif(a==13):\n",
    "        print(\"Kepa\")\n",
    "    elif(a==23):\n",
    "        print(\"Pau Lopez\")\n",
    "    elif(a==6):\n",
    "        print(\"Pau Torres\")\n",
    "    elif(a==4):\n",
    "        print(\"Iñigo Martínez\")\n",
    "    elif(a==15):\n",
    "        print(\"Sergio Ramos(C)\")\n",
    "    elif(a==3):\n",
    "        print(\"Raúl Albiol\")\n",
    "    elif(a==18):\n",
    "        print(\"José Gayà\")\n",
    "    elif(a==14):\n",
    "        print(\"Juan Bernat\")\n",
    "    elif(a==2):\n",
    "        print(\"Daniel Carvajal\")\n",
    "    elif(a==22):\n",
    "        print(\"Jesús Navas\")\n",
    "    elif(a==16):\n",
    "        print(\"Rodri\")\n",
    "    elif(a==5):\n",
    "        print(\"Sergio Busquets\")\n",
    "    elif(a==8):\n",
    "        print(\"Saul Nig ez\")\n",
    "    elif(a==10):\n",
    "        print(\"Thiago\")\n",
    "    elif(a==17):\n",
    "        print(\"Fabian Ruiz\")\n",
    "    elif(a==20):\n",
    "        print(\"Santi Cazorla\")\n",
    "    elif(a==12):\n",
    "        print(\"Dani Olmo\")\n",
    "    elif(a==21):\n",
    "        print(\"Mikel Oyarzabal\")\n",
    "    elif(a==11):\n",
    "        print(\"Pablo Sarabia\")\n",
    "    elif(a==7):\n",
    "        print(\"Alvaro Morata\")\n",
    "    elif(a==19):\n",
    "        print(\"Gerard Moreno\")\n",
    "    elif(a==7):\n",
    "        print(\"Paco Alcácer\")       "
   ]
  },
  {
   "cell_type": "code",
   "execution_count": 116,
   "metadata": {
    "ExecuteTime": {
     "end_time": "2020-07-27T08:05:01.211632Z",
     "start_time": "2020-07-27T08:04:56.442600Z"
    }
   },
   "outputs": [
    {
     "name": "stdout",
     "output_type": "stream",
     "text": [
      "Enter a number of the player on the Spanish National Team you wish to see 15\n",
      "Sergio Ramos(C)\n"
     ]
    }
   ],
   "source": [
    "a = input(\"Enter a number of the player on the Spanish National Team you wish to see \")\n",
    "a = int(a)\n",
    "number(a)"
   ]
  },
  {
   "cell_type": "code",
   "execution_count": 117,
   "metadata": {
    "ExecuteTime": {
     "end_time": "2020-07-27T08:05:06.509095Z",
     "start_time": "2020-07-27T08:05:06.488616Z"
    }
   },
   "outputs": [],
   "source": [
    "def number(z):\n",
    "    if z == 1:\n",
    "        print(\"David De Gea, Position: Goalkeeper ,Market Value: €40.00m\")\n",
    "    elif(z==13):\n",
    "        print(\"Kepa : Position: Goalkeeper ,Market Value: €32.00m\")\n",
    "    elif(z==23):\n",
    "        print(\"Pau López : Position: Goalkeeper ,Market Value: €19.00m\")\n",
    "    elif(z==6):\n",
    "        print(\" Pau Torres :Position: Goalkeeper ,Market Value: €32.00m\")\n",
    "    elif(z==4):\n",
    "        print(\"Iñigo Martínez: Position: Centre-Back ,Market Value: €25.50m\")\n",
    "    elif(z==15):\n",
    "        print(\"Sergio Ramos(C): Position: Centre-Back ,Market Value: €14.50m\")\n",
    "    elif(z==3):\n",
    "        print(\"Raúl Albiol: Position: Centre-Back ,Market Value: €3.20m\")\n",
    "    elif(z==18):\n",
    "        print(\"José Gayà: Position: Left-Back ,Market Value: €40.00m\")\n",
    "    elif(z==14):\n",
    "        print(\"Juan Bernat :Position: Left-Back ,Market Value: €16.00m\")\n",
    "    elif(z==2):\n",
    "        print(\"Daniel Carvajal: Position: Right-Back ,Market Value: €40.00m\")\n",
    "    elif(z==22):\n",
    "        print(\"Jesús Navas:Position: Right Back ,Market Value: €3.20m\")\n",
    "    elif(z==16):\n",
    "        print(\"Rodri:Position: Defensive Midfielder ,Market Value: €64.00m\")\n",
    "    elif(z==5):\n",
    "        print(\"Sergio Busquets:Position: Defensive Midfielder,Market Value: €28.00m\")\n",
    "    elif(z==8):\n",
    "        print(\"Saul Nig ez:Position: Central Midfielder ,Market Value: €72.00m\")\n",
    "    elif(z==10):\n",
    "        print(\"Thiago:Position: Central Midfielder ,Market Value: €48.00m\")\n",
    "    elif(z==17):\n",
    "        print(\"Fabian Ruiz:Position: Central Midfielder ,Market Value: €48.00m\")\n",
    "    elif(z==20):\n",
    "        print(\"Santi Cazorla:Position: Central Midfielder ,Market Value: €2.50m\")\n",
    "    elif(z==12):\n",
    "        print(\"Dani Olmo:Position: Attacking Midfielder ,Market Value: €31.50m\")\n",
    "    elif(z==21):\n",
    "        print(\"Mikel Oyarzabal:Position: Left-Winger ,Market Value: €60.00m\")\n",
    "    elif(z==11):\n",
    "        print(\"Pablo Sarabia:Position: Right-Winger ,Market Value: €28.00m\")\n",
    "    elif(z==7):\n",
    "        print(\"Alvaro Morata:Position: Centre forward ,Market Value: €36.00m\")\n",
    "    elif(z==19):\n",
    "        print(\"Gerard Moreno:Position: Centre forward ,Market Value: €30.00m\")\n",
    "    elif(z==7):\n",
    "        print(\"Paco Alcácer:Position: Centre forward ,Market Value: €28.00m\")       "
   ]
  },
  {
   "cell_type": "code",
   "execution_count": 118,
   "metadata": {
    "ExecuteTime": {
     "end_time": "2020-07-27T08:05:10.940123Z",
     "start_time": "2020-07-27T08:05:07.396422Z"
    }
   },
   "outputs": [
    {
     "name": "stdout",
     "output_type": "stream",
     "text": [
      "Enter a number of the player on the Spanish National Team you wish to see 15\n",
      "Sergio Ramos(C): Position: Centre-Back ,Market Value: €14.50m\n"
     ]
    }
   ],
   "source": [
    "z = input(\"Enter a number of the player on the Spanish National Team you wish to see \")\n",
    "z = int(z)\n",
    "number(z)"
   ]
  },
  {
   "cell_type": "code",
   "execution_count": null,
   "metadata": {},
   "outputs": [],
   "source": []
  }
 ],
 "metadata": {
  "kernelspec": {
   "display_name": "Python 3",
   "language": "python",
   "name": "python3"
  },
  "language_info": {
   "codemirror_mode": {
    "name": "ipython",
    "version": 3
   },
   "file_extension": ".py",
   "mimetype": "text/x-python",
   "name": "python",
   "nbconvert_exporter": "python",
   "pygments_lexer": "ipython3",
   "version": "3.7.7"
  }
 },
 "nbformat": 4,
 "nbformat_minor": 4
}
