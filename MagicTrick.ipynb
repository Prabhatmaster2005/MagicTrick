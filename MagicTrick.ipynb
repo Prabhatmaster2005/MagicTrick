{
 "cells": [
  {
   "cell_type": "code",
   "execution_count": null,
   "metadata": {
    "ExecuteTime": {
     "start_time": "2020-07-09T07:06:53.220Z"
    }
   },
   "outputs": [],
   "source": [
    "import math\n",
    "a = input(\"What is your name \")\n",
    "print(\"Hello \" +a)\n",
    "print(\"KEEP THIS NUMBER IN YOUR MIND:1089\")\n",
    "input(\"Type ok \")\n",
    "c = int(input(\"Pick a three-digit number which has three different digits in descending order \"))\n",
    "j = c\n",
    "d = 0\n",
    "while(c > 0):\n",
    "    f = c %10\n",
    "    d = (d *10) + f\n",
    "    c = c //10\n",
    "print(\"Reverse of entered number is = %d \" %d)\n",
    "print(\"Subract these two numbers \")\n",
    "n = j - d\n",
    "print(\"Difference={}\".format(n))\n",
    "input(\"Type OK if you agree \")\n",
    "print(\"Now reverse and add the two numbers\")\n",
    "k = n\n",
    "d = 0\n",
    "while(n > 0):\n",
    "    f = n %10\n",
    "    d = (d *10) + f\n",
    "    n = n //10\n",
    "print(\"Reverse of entered number is = %d\" %d)\n",
    "i = k + d\n",
    "print(\"The number is {}\".format(i))\n",
    "input(\"Type ok if it is correct \")\n",
    "\n",
    "input(\"Can you do one more magic trick?? (Type yes) \")\n",
    "z = int(input(\"Enter any number \"))\n",
    "print(\"Multiply the numnber by 10\")\n",
    "y = z * 10\n",
    "print(y)\n",
    "input(\"Is it correct?\")\n",
    "print(\"Subract this number by the original\")\n",
    "w = y - z\n",
    "print(w)\n",
    "print(\"Add 9 to this number \")\n",
    "x = w + 9\n",
    "print(x)\n",
    "input(\"Type OK if correct\")\n",
    "print(\"Strike out any one digit\")\n",
    "b = int(input(\"Enter the sum of the remaining digits \"))\n",
    "m = 9 - b\n",
    "print(\"The number you striked out is {}\".format(m))\n",
    "input(\"Type ok if correct \")\n"
   ]
  },
  {
   "cell_type": "code",
   "execution_count": null,
   "metadata": {},
   "outputs": [],
   "source": []
  }
 ],
 "metadata": {
  "kernelspec": {
   "display_name": "Python 3",
   "language": "python",
   "name": "python3"
  },
  "language_info": {
   "codemirror_mode": {
    "name": "ipython",
    "version": 3
   },
   "file_extension": ".py",
   "mimetype": "text/x-python",
   "name": "python",
   "nbconvert_exporter": "python",
   "pygments_lexer": "ipython3",
   "version": "3.7.7"
  }
 },
 "nbformat": 4,
 "nbformat_minor": 4
}
