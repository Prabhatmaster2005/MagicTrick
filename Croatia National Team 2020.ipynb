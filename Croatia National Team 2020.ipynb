{
 "cells": [
  {
   "cell_type": "code",
   "execution_count": 1,
   "metadata": {
    "ExecuteTime": {
     "end_time": "2020-08-09T08:51:12.764282Z",
     "start_time": "2020-08-09T08:50:55.715711Z"
    }
   },
   "outputs": [],
   "source": [
    "import pandas as pd\n",
    "import numpy as np\n",
    "import matplotlib.pyplot as plt"
   ]
  },
  {
   "cell_type": "code",
   "execution_count": 2,
   "metadata": {
    "ExecuteTime": {
     "end_time": "2020-08-09T08:51:13.181724Z",
     "start_time": "2020-08-09T08:51:12.771125Z"
    }
   },
   "outputs": [
    {
     "data": {
      "text/html": [
       "<div>\n",
       "<style scoped>\n",
       "    .dataframe tbody tr th:only-of-type {\n",
       "        vertical-align: middle;\n",
       "    }\n",
       "\n",
       "    .dataframe tbody tr th {\n",
       "        vertical-align: top;\n",
       "    }\n",
       "\n",
       "    .dataframe thead th {\n",
       "        text-align: right;\n",
       "    }\n",
       "</style>\n",
       "<table border=\"1\" class=\"dataframe\">\n",
       "  <thead>\n",
       "    <tr style=\"text-align: right;\">\n",
       "      <th></th>\n",
       "      <th>#</th>\n",
       "      <th>Player</th>\n",
       "      <th>Position</th>\n",
       "      <th>Age</th>\n",
       "      <th>Market value</th>\n",
       "    </tr>\n",
       "  </thead>\n",
       "  <tbody>\n",
       "    <tr>\n",
       "      <th>0</th>\n",
       "      <td>1</td>\n",
       "      <td>Dominik Livakovic</td>\n",
       "      <td>Goalkeeper</td>\n",
       "      <td>25</td>\n",
       "      <td>€12.50m</td>\n",
       "    </tr>\n",
       "    <tr>\n",
       "      <th>1</th>\n",
       "      <td>12</td>\n",
       "      <td>Lovre Kalinic</td>\n",
       "      <td>Goalkeeper</td>\n",
       "      <td>30</td>\n",
       "      <td>€2.80m</td>\n",
       "    </tr>\n",
       "    <tr>\n",
       "      <th>2</th>\n",
       "      <td>23</td>\n",
       "      <td>Simon Slugac</td>\n",
       "      <td>Goalkeeper</td>\n",
       "      <td>27</td>\n",
       "      <td>€950Th.</td>\n",
       "    </tr>\n",
       "    <tr>\n",
       "      <th>3</th>\n",
       "      <td>6</td>\n",
       "      <td>Duje Caleta-Car</td>\n",
       "      <td>Centre-Back</td>\n",
       "      <td>23</td>\n",
       "      <td>€23.00m</td>\n",
       "    </tr>\n",
       "    <tr>\n",
       "      <th>4</th>\n",
       "      <td>6</td>\n",
       "      <td>Dejan Lovren</td>\n",
       "      <td>Centre-Back</td>\n",
       "      <td>31</td>\n",
       "      <td>€12.00m</td>\n",
       "    </tr>\n",
       "  </tbody>\n",
       "</table>\n",
       "</div>"
      ],
      "text/plain": [
       "    #             Player     Position  Age Market value\n",
       "0   1  Dominik Livakovic   Goalkeeper   25      €12.50m\n",
       "1  12      Lovre Kalinic   Goalkeeper   30       €2.80m\n",
       "2  23       Simon Slugac   Goalkeeper   27      €950Th.\n",
       "3   6    Duje Caleta-Car  Centre-Back   23      €23.00m\n",
       "4   6       Dejan Lovren  Centre-Back   31      €12.00m"
      ]
     },
     "execution_count": 2,
     "metadata": {},
     "output_type": "execute_result"
    }
   ],
   "source": [
    "file = 'Croatia National Team.xlsx'\n",
    "df = pd.read_excel(file)\n",
    "df.head()"
   ]
  },
  {
   "cell_type": "code",
   "execution_count": 3,
   "metadata": {
    "ExecuteTime": {
     "end_time": "2020-08-09T08:57:14.675735Z",
     "start_time": "2020-08-09T08:57:14.657595Z"
    }
   },
   "outputs": [
    {
     "data": {
      "text/html": [
       "<div>\n",
       "<style scoped>\n",
       "    .dataframe tbody tr th:only-of-type {\n",
       "        vertical-align: middle;\n",
       "    }\n",
       "\n",
       "    .dataframe tbody tr th {\n",
       "        vertical-align: top;\n",
       "    }\n",
       "\n",
       "    .dataframe thead th {\n",
       "        text-align: right;\n",
       "    }\n",
       "</style>\n",
       "<table border=\"1\" class=\"dataframe\">\n",
       "  <thead>\n",
       "    <tr style=\"text-align: right;\">\n",
       "      <th></th>\n",
       "      <th>#</th>\n",
       "      <th>Player</th>\n",
       "    </tr>\n",
       "  </thead>\n",
       "  <tbody>\n",
       "    <tr>\n",
       "      <th>0</th>\n",
       "      <td>1</td>\n",
       "      <td>Dominik Livakovic</td>\n",
       "    </tr>\n",
       "    <tr>\n",
       "      <th>1</th>\n",
       "      <td>12</td>\n",
       "      <td>Lovre Kalinic</td>\n",
       "    </tr>\n",
       "    <tr>\n",
       "      <th>2</th>\n",
       "      <td>23</td>\n",
       "      <td>Simon Slugac</td>\n",
       "    </tr>\n",
       "    <tr>\n",
       "      <th>3</th>\n",
       "      <td>6</td>\n",
       "      <td>Duje Caleta-Car</td>\n",
       "    </tr>\n",
       "    <tr>\n",
       "      <th>4</th>\n",
       "      <td>6</td>\n",
       "      <td>Dejan Lovren</td>\n",
       "    </tr>\n",
       "  </tbody>\n",
       "</table>\n",
       "</div>"
      ],
      "text/plain": [
       "    #             Player\n",
       "0   1  Dominik Livakovic\n",
       "1  12      Lovre Kalinic\n",
       "2  23       Simon Slugac\n",
       "3   6    Duje Caleta-Car\n",
       "4   6       Dejan Lovren"
      ]
     },
     "execution_count": 3,
     "metadata": {},
     "output_type": "execute_result"
    }
   ],
   "source": [
    "df1 = df[['#', 'Player']]\n",
    "df1.head()"
   ]
  },
  {
   "cell_type": "code",
   "execution_count": 4,
   "metadata": {
    "ExecuteTime": {
     "end_time": "2020-08-09T08:57:14.999625Z",
     "start_time": "2020-08-09T08:57:14.986563Z"
    }
   },
   "outputs": [
    {
     "data": {
      "text/plain": [
       "array([[1, 'Dominik Livakovic'],\n",
       "       [12, 'Lovre Kalinic'],\n",
       "       [23, 'Simon Slugac'],\n",
       "       [6, 'Duje Caleta-Car'],\n",
       "       [6, 'Dejan Lovren'],\n",
       "       [16, 'Tin Jedvaj'],\n",
       "       [21, 'Domagoj Vida'],\n",
       "       [14, 'Mile Skoric '],\n",
       "       [3, 'Borna Barisic '],\n",
       "       [2, 'Dario Melnjak '],\n",
       "       [2, 'Sime Vrsaljko '],\n",
       "       [11, 'Marcelo Brozovic '],\n",
       "       [19, 'Milan Badelj '],\n",
       "       [8, 'Mateo Kovacic '],\n",
       "       [7, 'Ivan Rakitic '],\n",
       "       [15, 'Mario Pasalic'],\n",
       "       [10, 'Luka Modric '],\n",
       "       [13, 'Nikola Vlasic '],\n",
       "       [4, 'Ivan Perisic'],\n",
       "       [7, 'Josip Brekalo '],\n",
       "       [18, 'Ante Rebic '],\n",
       "       [9, 'Andrej Kramaric'],\n",
       "       [20, 'Bruno Petkovic ']], dtype=object)"
      ]
     },
     "execution_count": 4,
     "metadata": {},
     "output_type": "execute_result"
    }
   ],
   "source": [
    "df1.values"
   ]
  },
  {
   "cell_type": "code",
   "execution_count": 7,
   "metadata": {
    "ExecuteTime": {
     "end_time": "2020-08-09T08:57:33.451348Z",
     "start_time": "2020-08-09T08:57:33.444349Z"
    }
   },
   "outputs": [],
   "source": [
    "a = (df1.values.tolist())"
   ]
  },
  {
   "cell_type": "code",
   "execution_count": 8,
   "metadata": {
    "ExecuteTime": {
     "end_time": "2020-08-09T08:57:33.985717Z",
     "start_time": "2020-08-09T08:57:33.967521Z"
    }
   },
   "outputs": [],
   "source": [
    "Ndict = dict(sorted(a))"
   ]
  },
  {
   "cell_type": "code",
   "execution_count": 9,
   "metadata": {
    "ExecuteTime": {
     "end_time": "2020-08-09T08:57:37.603729Z",
     "start_time": "2020-08-09T08:57:34.653536Z"
    }
   },
   "outputs": [
    {
     "name": "stdout",
     "output_type": "stream",
     "text": [
      "Enter the jersey number of the player you wish to see10\n"
     ]
    },
    {
     "data": {
      "text/plain": [
       "'Luka Modric '"
      ]
     },
     "execution_count": 9,
     "metadata": {},
     "output_type": "execute_result"
    }
   ],
   "source": [
    "k = input(\"Enter the jersey number of the player you wish to see\")\n",
    "k = int(k)\n",
    "Ndict[k]"
   ]
  },
  {
   "cell_type": "code",
   "execution_count": 10,
   "metadata": {
    "ExecuteTime": {
     "end_time": "2020-08-09T08:57:38.955175Z",
     "start_time": "2020-08-09T08:57:38.931635Z"
    }
   },
   "outputs": [
    {
     "data": {
      "text/html": [
       "<div>\n",
       "<style scoped>\n",
       "    .dataframe tbody tr th:only-of-type {\n",
       "        vertical-align: middle;\n",
       "    }\n",
       "\n",
       "    .dataframe tbody tr th {\n",
       "        vertical-align: top;\n",
       "    }\n",
       "\n",
       "    .dataframe thead th {\n",
       "        text-align: right;\n",
       "    }\n",
       "</style>\n",
       "<table border=\"1\" class=\"dataframe\">\n",
       "  <thead>\n",
       "    <tr style=\"text-align: right;\">\n",
       "      <th></th>\n",
       "      <th>#</th>\n",
       "      <th>Market value</th>\n",
       "    </tr>\n",
       "  </thead>\n",
       "  <tbody>\n",
       "    <tr>\n",
       "      <th>0</th>\n",
       "      <td>1</td>\n",
       "      <td>€12.50m</td>\n",
       "    </tr>\n",
       "    <tr>\n",
       "      <th>1</th>\n",
       "      <td>12</td>\n",
       "      <td>€2.80m</td>\n",
       "    </tr>\n",
       "    <tr>\n",
       "      <th>2</th>\n",
       "      <td>23</td>\n",
       "      <td>€950Th.</td>\n",
       "    </tr>\n",
       "    <tr>\n",
       "      <th>3</th>\n",
       "      <td>6</td>\n",
       "      <td>€23.00m</td>\n",
       "    </tr>\n",
       "    <tr>\n",
       "      <th>4</th>\n",
       "      <td>6</td>\n",
       "      <td>€12.00m</td>\n",
       "    </tr>\n",
       "    <tr>\n",
       "      <th>5</th>\n",
       "      <td>16</td>\n",
       "      <td>€7.00m</td>\n",
       "    </tr>\n",
       "    <tr>\n",
       "      <th>6</th>\n",
       "      <td>21</td>\n",
       "      <td>€6.00m</td>\n",
       "    </tr>\n",
       "    <tr>\n",
       "      <th>7</th>\n",
       "      <td>14</td>\n",
       "      <td>€1.20m</td>\n",
       "    </tr>\n",
       "    <tr>\n",
       "      <th>8</th>\n",
       "      <td>3</td>\n",
       "      <td>€4.00m</td>\n",
       "    </tr>\n",
       "    <tr>\n",
       "      <th>9</th>\n",
       "      <td>2</td>\n",
       "      <td>€2.50m</td>\n",
       "    </tr>\n",
       "    <tr>\n",
       "      <th>10</th>\n",
       "      <td>2</td>\n",
       "      <td>€12.00m</td>\n",
       "    </tr>\n",
       "    <tr>\n",
       "      <th>11</th>\n",
       "      <td>11</td>\n",
       "      <td>€48.00m</td>\n",
       "    </tr>\n",
       "    <tr>\n",
       "      <th>12</th>\n",
       "      <td>19</td>\n",
       "      <td>€2.40m</td>\n",
       "    </tr>\n",
       "    <tr>\n",
       "      <th>13</th>\n",
       "      <td>8</td>\n",
       "      <td>€40.00m</td>\n",
       "    </tr>\n",
       "    <tr>\n",
       "      <th>14</th>\n",
       "      <td>7</td>\n",
       "      <td>€20.00m</td>\n",
       "    </tr>\n",
       "    <tr>\n",
       "      <th>15</th>\n",
       "      <td>15</td>\n",
       "      <td>€16.00m</td>\n",
       "    </tr>\n",
       "    <tr>\n",
       "      <th>16</th>\n",
       "      <td>10</td>\n",
       "      <td>€12.00m</td>\n",
       "    </tr>\n",
       "    <tr>\n",
       "      <th>17</th>\n",
       "      <td>13</td>\n",
       "      <td>€22.00m</td>\n",
       "    </tr>\n",
       "    <tr>\n",
       "      <th>18</th>\n",
       "      <td>4</td>\n",
       "      <td>€17.50m</td>\n",
       "    </tr>\n",
       "    <tr>\n",
       "      <th>19</th>\n",
       "      <td>7</td>\n",
       "      <td>€13.50m</td>\n",
       "    </tr>\n",
       "    <tr>\n",
       "      <th>20</th>\n",
       "      <td>18</td>\n",
       "      <td>€24.00m</td>\n",
       "    </tr>\n",
       "    <tr>\n",
       "      <th>21</th>\n",
       "      <td>9</td>\n",
       "      <td>€30.50m</td>\n",
       "    </tr>\n",
       "    <tr>\n",
       "      <th>22</th>\n",
       "      <td>20</td>\n",
       "      <td>€11.00m</td>\n",
       "    </tr>\n",
       "  </tbody>\n",
       "</table>\n",
       "</div>"
      ],
      "text/plain": [
       "     # Market value\n",
       "0    1      €12.50m\n",
       "1   12       €2.80m\n",
       "2   23      €950Th.\n",
       "3    6      €23.00m\n",
       "4    6      €12.00m\n",
       "5   16       €7.00m\n",
       "6   21       €6.00m\n",
       "7   14       €1.20m\n",
       "8    3       €4.00m\n",
       "9    2       €2.50m\n",
       "10   2      €12.00m\n",
       "11  11      €48.00m\n",
       "12  19       €2.40m\n",
       "13   8      €40.00m\n",
       "14   7      €20.00m\n",
       "15  15      €16.00m\n",
       "16  10      €12.00m\n",
       "17  13      €22.00m\n",
       "18   4      €17.50m\n",
       "19   7      €13.50m\n",
       "20  18      €24.00m\n",
       "21   9      €30.50m\n",
       "22  20      €11.00m"
      ]
     },
     "execution_count": 10,
     "metadata": {},
     "output_type": "execute_result"
    }
   ],
   "source": [
    "df2 = df[['#','Market value']]\n",
    "df2"
   ]
  },
  {
   "cell_type": "code",
   "execution_count": 11,
   "metadata": {
    "ExecuteTime": {
     "end_time": "2020-08-09T08:57:39.297221Z",
     "start_time": "2020-08-09T08:57:39.277220Z"
    }
   },
   "outputs": [
    {
     "data": {
      "text/plain": [
       "array([[1, '€12.50m'],\n",
       "       [12, '€2.80m'],\n",
       "       [23, '€950Th.'],\n",
       "       [6, '€23.00m'],\n",
       "       [6, '€12.00m'],\n",
       "       [16, '€7.00m'],\n",
       "       [21, '€6.00m'],\n",
       "       [14, '€1.20m'],\n",
       "       [3, '€4.00m'],\n",
       "       [2, '€2.50m'],\n",
       "       [2, '€12.00m'],\n",
       "       [11, '€48.00m'],\n",
       "       [19, '€2.40m'],\n",
       "       [8, '€40.00m'],\n",
       "       [7, '€20.00m'],\n",
       "       [15, '€16.00m'],\n",
       "       [10, '€12.00m'],\n",
       "       [13, '€22.00m'],\n",
       "       [4, '€17.50m'],\n",
       "       [7, '€13.50m'],\n",
       "       [18, '€24.00m'],\n",
       "       [9, '€30.50m'],\n",
       "       [20, '€11.00m']], dtype=object)"
      ]
     },
     "execution_count": 11,
     "metadata": {},
     "output_type": "execute_result"
    }
   ],
   "source": [
    "df2.values"
   ]
  },
  {
   "cell_type": "code",
   "execution_count": 12,
   "metadata": {
    "ExecuteTime": {
     "end_time": "2020-08-09T08:57:39.641614Z",
     "start_time": "2020-08-09T08:57:39.622799Z"
    }
   },
   "outputs": [],
   "source": [
    "b = (df2.values.tolist())"
   ]
  },
  {
   "cell_type": "code",
   "execution_count": 13,
   "metadata": {
    "ExecuteTime": {
     "end_time": "2020-08-09T08:57:39.969083Z",
     "start_time": "2020-08-09T08:57:39.964587Z"
    }
   },
   "outputs": [],
   "source": [
    "Mdict = dict(sorted(b))"
   ]
  },
  {
   "cell_type": "code",
   "execution_count": 14,
   "metadata": {
    "ExecuteTime": {
     "end_time": "2020-08-09T08:57:42.055239Z",
     "start_time": "2020-08-09T08:57:40.354723Z"
    }
   },
   "outputs": [
    {
     "name": "stdout",
     "output_type": "stream",
     "text": [
      "10\n"
     ]
    },
    {
     "data": {
      "text/plain": [
       "'€12.00m'"
      ]
     },
     "execution_count": 14,
     "metadata": {},
     "output_type": "execute_result"
    }
   ],
   "source": [
    "k = input()\n",
    "k = int(k)\n",
    "Mdict[k]"
   ]
  },
  {
   "cell_type": "code",
   "execution_count": 15,
   "metadata": {
    "ExecuteTime": {
     "end_time": "2020-08-09T08:57:43.597660Z",
     "start_time": "2020-08-09T08:57:43.580598Z"
    }
   },
   "outputs": [
    {
     "data": {
      "text/html": [
       "<div>\n",
       "<style scoped>\n",
       "    .dataframe tbody tr th:only-of-type {\n",
       "        vertical-align: middle;\n",
       "    }\n",
       "\n",
       "    .dataframe tbody tr th {\n",
       "        vertical-align: top;\n",
       "    }\n",
       "\n",
       "    .dataframe thead th {\n",
       "        text-align: right;\n",
       "    }\n",
       "</style>\n",
       "<table border=\"1\" class=\"dataframe\">\n",
       "  <thead>\n",
       "    <tr style=\"text-align: right;\">\n",
       "      <th></th>\n",
       "      <th>#</th>\n",
       "      <th>Age</th>\n",
       "    </tr>\n",
       "  </thead>\n",
       "  <tbody>\n",
       "    <tr>\n",
       "      <th>0</th>\n",
       "      <td>1</td>\n",
       "      <td>25</td>\n",
       "    </tr>\n",
       "    <tr>\n",
       "      <th>1</th>\n",
       "      <td>12</td>\n",
       "      <td>30</td>\n",
       "    </tr>\n",
       "    <tr>\n",
       "      <th>2</th>\n",
       "      <td>23</td>\n",
       "      <td>27</td>\n",
       "    </tr>\n",
       "    <tr>\n",
       "      <th>3</th>\n",
       "      <td>6</td>\n",
       "      <td>23</td>\n",
       "    </tr>\n",
       "    <tr>\n",
       "      <th>4</th>\n",
       "      <td>6</td>\n",
       "      <td>31</td>\n",
       "    </tr>\n",
       "  </tbody>\n",
       "</table>\n",
       "</div>"
      ],
      "text/plain": [
       "    #  Age\n",
       "0   1   25\n",
       "1  12   30\n",
       "2  23   27\n",
       "3   6   23\n",
       "4   6   31"
      ]
     },
     "execution_count": 15,
     "metadata": {},
     "output_type": "execute_result"
    }
   ],
   "source": [
    "df3 = df[['#','Age']]\n",
    "df3.head()"
   ]
  },
  {
   "cell_type": "code",
   "execution_count": 16,
   "metadata": {
    "ExecuteTime": {
     "end_time": "2020-08-09T08:57:43.999519Z",
     "start_time": "2020-08-09T08:57:43.981520Z"
    }
   },
   "outputs": [],
   "source": [
    "c = (df3.values.tolist())"
   ]
  },
  {
   "cell_type": "code",
   "execution_count": 17,
   "metadata": {
    "ExecuteTime": {
     "end_time": "2020-08-09T08:57:45.524799Z",
     "start_time": "2020-08-09T08:57:45.515746Z"
    }
   },
   "outputs": [],
   "source": [
    "Adict = dict(sorted(b))"
   ]
  },
  {
   "cell_type": "code",
   "execution_count": 22,
   "metadata": {
    "ExecuteTime": {
     "end_time": "2020-08-09T08:58:19.262798Z",
     "start_time": "2020-08-09T08:58:17.970152Z"
    }
   },
   "outputs": [
    {
     "name": "stdout",
     "output_type": "stream",
     "text": [
      "1\n"
     ]
    },
    {
     "data": {
      "text/plain": [
       "'€12.50m'"
      ]
     },
     "execution_count": 22,
     "metadata": {},
     "output_type": "execute_result"
    }
   ],
   "source": [
    "i = input()\n",
    "i = int(i)\n",
    "Adict[i]"
   ]
  },
  {
   "cell_type": "code",
   "execution_count": 19,
   "metadata": {
    "ExecuteTime": {
     "end_time": "2020-08-09T08:57:49.439558Z",
     "start_time": "2020-08-09T08:57:49.420479Z"
    }
   },
   "outputs": [
    {
     "data": {
      "text/plain": [
       "27.47826086956522"
      ]
     },
     "execution_count": 19,
     "metadata": {},
     "output_type": "execute_result"
    }
   ],
   "source": [
    "df['Age'].mean()"
   ]
  },
  {
   "cell_type": "code",
   "execution_count": 20,
   "metadata": {
    "ExecuteTime": {
     "end_time": "2020-08-09T08:57:49.844694Z",
     "start_time": "2020-08-09T08:57:49.809735Z"
    }
   },
   "outputs": [
    {
     "data": {
      "text/plain": [
       "Centre-Back           5\n",
       "Central Midfield      4\n",
       "Centre-Forward        2\n",
       "Left Winger           2\n",
       "Goalkeeper            2\n",
       "Left-Back             2\n",
       "Defensive Midfield    2\n",
       "Second Striker        1\n",
       " Goalkeeper           1\n",
       "Attacking Midfield    1\n",
       "Right-Back            1\n",
       "Name: Position, dtype: int64"
      ]
     },
     "execution_count": 20,
     "metadata": {},
     "output_type": "execute_result"
    }
   ],
   "source": [
    "df['Position'].value_counts()"
   ]
  },
  {
   "cell_type": "code",
   "execution_count": 21,
   "metadata": {
    "ExecuteTime": {
     "end_time": "2020-08-09T08:57:51.208378Z",
     "start_time": "2020-08-09T08:57:50.271757Z"
    }
   },
   "outputs": [
    {
     "data": {
      "image/png": "[encoded data removed]",
      "text/plain": [
       "<Figure size 1152x720 with 1 Axes>"
      ]
     },
     "metadata": {
      "needs_background": "light"
     },
     "output_type": "display_data"
    }
   ],
   "source": [
    "df['Position'].value_counts().plot(figsize = (16,10),c ='Red' , ls='', marker = 'o', ms=20)\n",
    "plt.xticks(fontsize = 25,rotation = 60)\n",
    "plt.yticks(fontsize = 25)\n",
    "plt.ylabel(\"Number of players \",fontsize = 25)\n",
    "plt.xlabel(\"Position\",fontsize = 25)\n",
    "plt.title(\"Number of players in each position\",fontsize = 40)\n",
    "plt.show()"
   ]
  },
  {
   "cell_type": "code",
   "execution_count": null,
   "metadata": {},
   "outputs": [],
   "source": []
  },
  {
   "cell_type": "code",
   "execution_count": null,
   "metadata": {},
   "outputs": [],
   "source": []
  }
 ],
 "metadata": {
  "kernelspec": {
   "display_name": "Python 3",
   "language": "python",
   "name": "python3"
  },
  "language_info": {
   "codemirror_mode": {
    "name": "ipython",
    "version": 3
   },
   "file_extension": ".py",
   "mimetype": "text/x-python",
   "name": "python",
   "nbconvert_exporter": "python",
   "pygments_lexer": "ipython3",
   "version": "3.8.3"
  }
 },
 "nbformat": 4,
 "nbformat_minor": 4
}
