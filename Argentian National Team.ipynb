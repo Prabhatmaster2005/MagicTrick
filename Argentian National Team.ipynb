{
 "cells": [
  {
   "cell_type": "code",
   "execution_count": 1,
   "metadata": {
    "ExecuteTime": {
     "end_time": "2020-07-30T10:00:49.362996Z",
     "start_time": "2020-07-30T10:00:23.589039Z"
    }
   },
   "outputs": [],
   "source": [
    "import pandas as pd\n",
    "import matplotlib.pyplot as plt"
   ]
  },
  {
   "cell_type": "code",
   "execution_count": 3,
   "metadata": {
    "ExecuteTime": {
     "end_time": "2020-07-30T10:02:03.671397Z",
     "start_time": "2020-07-30T10:02:02.454601Z"
    }
   },
   "outputs": [
    {
     "data": {
      "text/html": [
       "<div>\n",
       "<style scoped>\n",
       "    .dataframe tbody tr th:only-of-type {\n",
       "        vertical-align: middle;\n",
       "    }\n",
       "\n",
       "    .dataframe tbody tr th {\n",
       "        vertical-align: top;\n",
       "    }\n",
       "\n",
       "    .dataframe thead th {\n",
       "        text-align: right;\n",
       "    }\n",
       "</style>\n",
       "<table border=\"1\" class=\"dataframe\">\n",
       "  <thead>\n",
       "    <tr style=\"text-align: right;\">\n",
       "      <th></th>\n",
       "      <th>#</th>\n",
       "      <th>Player</th>\n",
       "      <th>Age</th>\n",
       "      <th>Club</th>\n",
       "      <th>Market value</th>\n",
       "    </tr>\n",
       "  </thead>\n",
       "  <tbody>\n",
       "    <tr>\n",
       "      <th>0</th>\n",
       "      <td>12</td>\n",
       "      <td>Juan Musso &lt;&gt;Goalkepper&lt;&gt;</td>\n",
       "      <td>26</td>\n",
       "      <td>Udinese Calcio</td>\n",
       "      <td>€12.00m</td>\n",
       "    </tr>\n",
       "    <tr>\n",
       "      <th>1</th>\n",
       "      <td>6</td>\n",
       "      <td>Germán Pezzella Germán Pezzella  &lt;&gt; Centre-Bac...</td>\n",
       "      <td>29</td>\n",
       "      <td>ACF Fiorentina</td>\n",
       "      <td>€14.50m</td>\n",
       "    </tr>\n",
       "    <tr>\n",
       "      <th>2</th>\n",
       "      <td>19</td>\n",
       "      <td>Nicolás Otamendi Nicolás Otamendi  &lt;&gt; Centre-B...</td>\n",
       "      <td>32</td>\n",
       "      <td>Manchester City</td>\n",
       "      <td>€14.50m</td>\n",
       "    </tr>\n",
       "    <tr>\n",
       "      <th>3</th>\n",
       "      <td>-</td>\n",
       "      <td>Leonardo Balerdi Leonardo Balerdi  &lt;&gt; Centre-B...</td>\n",
       "      <td>21</td>\n",
       "      <td>Olympique Marseille</td>\n",
       "      <td>€7.20m</td>\n",
       "    </tr>\n",
       "    <tr>\n",
       "      <th>4</th>\n",
       "      <td>25</td>\n",
       "      <td>Nehuén Pérez Nehuén Pérez  &lt;&gt; Centre-Back  &lt;&gt;</td>\n",
       "      <td>20</td>\n",
       "      <td>FC Famalicão</td>\n",
       "      <td>€6.70m</td>\n",
       "    </tr>\n",
       "  </tbody>\n",
       "</table>\n",
       "</div>"
      ],
      "text/plain": [
       "    #                                             Player  Age  \\\n",
       "0  12                          Juan Musso <>Goalkepper<>   26   \n",
       "1   6  Germán Pezzella Germán Pezzella  <> Centre-Bac...   29   \n",
       "2  19  Nicolás Otamendi Nicolás Otamendi  <> Centre-B...   32   \n",
       "3   -  Leonardo Balerdi Leonardo Balerdi  <> Centre-B...   21   \n",
       "4  25      Nehuén Pérez Nehuén Pérez  <> Centre-Back  <>   20   \n",
       "\n",
       "                  Club Market value  \n",
       "0       Udinese Calcio      €12.00m  \n",
       "1       ACF Fiorentina      €14.50m  \n",
       "2      Manchester City      €14.50m  \n",
       "3  Olympique Marseille       €7.20m  \n",
       "4         FC Famalicão       €6.70m  "
      ]
     },
     "execution_count": 3,
     "metadata": {},
     "output_type": "execute_result"
    }
   ],
   "source": [
    "file = \"Argentina National Team.xlsx\"\n",
    "df = pd.read_excel(file)\n",
    "df.head()"
   ]
  },
  {
   "cell_type": "code",
   "execution_count": 4,
   "metadata": {
    "ExecuteTime": {
     "end_time": "2020-07-30T10:02:15.172038Z",
     "start_time": "2020-07-30T10:02:15.135969Z"
    }
   },
   "outputs": [
    {
     "data": {
      "text/html": [
       "<div>\n",
       "<style scoped>\n",
       "    .dataframe tbody tr th:only-of-type {\n",
       "        vertical-align: middle;\n",
       "    }\n",
       "\n",
       "    .dataframe tbody tr th {\n",
       "        vertical-align: top;\n",
       "    }\n",
       "\n",
       "    .dataframe thead th {\n",
       "        text-align: right;\n",
       "    }\n",
       "</style>\n",
       "<table border=\"1\" class=\"dataframe\">\n",
       "  <thead>\n",
       "    <tr style=\"text-align: right;\">\n",
       "      <th></th>\n",
       "      <th>#</th>\n",
       "      <th>Player</th>\n",
       "      <th>Age</th>\n",
       "      <th>Club</th>\n",
       "      <th>Market value</th>\n",
       "    </tr>\n",
       "  </thead>\n",
       "  <tbody>\n",
       "    <tr>\n",
       "      <th>0</th>\n",
       "      <td>12</td>\n",
       "      <td>Juan Musso &lt;&gt;Goalkepper&lt;&gt;</td>\n",
       "      <td>26</td>\n",
       "      <td>Udinese Calcio</td>\n",
       "      <td>€12.00m</td>\n",
       "    </tr>\n",
       "    <tr>\n",
       "      <th>1</th>\n",
       "      <td>6</td>\n",
       "      <td>Germán Pezzella Germán Pezzella  &lt;&gt; Centre-Bac...</td>\n",
       "      <td>29</td>\n",
       "      <td>ACF Fiorentina</td>\n",
       "      <td>€14.50m</td>\n",
       "    </tr>\n",
       "    <tr>\n",
       "      <th>2</th>\n",
       "      <td>19</td>\n",
       "      <td>Nicolás Otamendi Nicolás Otamendi  &lt;&gt; Centre-B...</td>\n",
       "      <td>32</td>\n",
       "      <td>Manchester City</td>\n",
       "      <td>€14.50m</td>\n",
       "    </tr>\n",
       "    <tr>\n",
       "      <th>3</th>\n",
       "      <td>-</td>\n",
       "      <td>Leonardo Balerdi Leonardo Balerdi  &lt;&gt; Centre-B...</td>\n",
       "      <td>21</td>\n",
       "      <td>Olympique Marseille</td>\n",
       "      <td>€7.20m</td>\n",
       "    </tr>\n",
       "    <tr>\n",
       "      <th>4</th>\n",
       "      <td>25</td>\n",
       "      <td>Nehuén Pérez Nehuén Pérez  &lt;&gt; Centre-Back  &lt;&gt;</td>\n",
       "      <td>20</td>\n",
       "      <td>FC Famalicão</td>\n",
       "      <td>€6.70m</td>\n",
       "    </tr>\n",
       "    <tr>\n",
       "      <th>5</th>\n",
       "      <td>3</td>\n",
       "      <td>Nicolás Tagliafico Nicolás Tagliafico  &lt;&gt; Left...</td>\n",
       "      <td>27</td>\n",
       "      <td>Ajax Amsterdam</td>\n",
       "      <td>€28.00m</td>\n",
       "    </tr>\n",
       "    <tr>\n",
       "      <th>6</th>\n",
       "      <td>8</td>\n",
       "      <td>Marcos Acuña Marcos Acuña  &lt;&gt; Left-Back  &lt;&gt;</td>\n",
       "      <td>28</td>\n",
       "      <td>Sporting CP</td>\n",
       "      <td>€12.00m</td>\n",
       "    </tr>\n",
       "    <tr>\n",
       "      <th>7</th>\n",
       "      <td>4</td>\n",
       "      <td>Renzo Saravia Renzo Saravia  &lt;&gt; Right-Back  &lt;&gt;</td>\n",
       "      <td>27</td>\n",
       "      <td>Sport Club Internacional</td>\n",
       "      <td>€3.20m</td>\n",
       "    </tr>\n",
       "    <tr>\n",
       "      <th>8</th>\n",
       "      <td>5</td>\n",
       "      <td>Leandro Paredes Leandro Paredes  &lt;&gt; Defensive ...</td>\n",
       "      <td>26</td>\n",
       "      <td>Paris Saint-Germain</td>\n",
       "      <td>€20.00m</td>\n",
       "    </tr>\n",
       "    <tr>\n",
       "      <th>9</th>\n",
       "      <td>18</td>\n",
       "      <td>Guido Rodríguez Guido Rodríguez  &lt;&gt; Defensive ...</td>\n",
       "      <td>26</td>\n",
       "      <td>Real Betis Balompié</td>\n",
       "      <td>€8.00m</td>\n",
       "    </tr>\n",
       "    <tr>\n",
       "      <th>10</th>\n",
       "      <td>20</td>\n",
       "      <td>Giovani Lo Celso Giovani Lo Celso  &lt;&gt; Central ...</td>\n",
       "      <td>24</td>\n",
       "      <td>Tottenham Hotspur</td>\n",
       "      <td>€40.00m</td>\n",
       "    </tr>\n",
       "    <tr>\n",
       "      <th>11</th>\n",
       "      <td>-</td>\n",
       "      <td>Exequiel Palacios Exequiel Palacios  &lt;&gt; Centra...</td>\n",
       "      <td>21</td>\n",
       "      <td>Bayer 04 Leverkusen</td>\n",
       "      <td>€18.00m</td>\n",
       "    </tr>\n",
       "    <tr>\n",
       "      <th>12</th>\n",
       "      <td>17</td>\n",
       "      <td>Nicolás Domínguez Nicolás Domínguez  &lt;&gt; Centra...</td>\n",
       "      <td>22</td>\n",
       "      <td>Bologna FC 1909</td>\n",
       "      <td>€15.50m</td>\n",
       "    </tr>\n",
       "    <tr>\n",
       "      <th>13</th>\n",
       "      <td>15</td>\n",
       "      <td>Rodrigo de Paul Rodrigo de Paul  &lt;&gt; Attacking ...</td>\n",
       "      <td>26</td>\n",
       "      <td>Udinese Calcio</td>\n",
       "      <td>€20.00m</td>\n",
       "    </tr>\n",
       "    <tr>\n",
       "      <th>14</th>\n",
       "      <td>7</td>\n",
       "      <td>Alexis Mac Allister Alexis Mac Allister  &lt;&gt; At...</td>\n",
       "      <td>21</td>\n",
       "      <td>Brighton &amp; Hove Albion</td>\n",
       "      <td>€11.00m</td>\n",
       "    </tr>\n",
       "    <tr>\n",
       "      <th>15</th>\n",
       "      <td>7</td>\n",
       "      <td>Roberto Pereyra Roberto Pereyra  &lt;&gt; Attacking ...</td>\n",
       "      <td>29</td>\n",
       "      <td>Watford FC</td>\n",
       "      <td>€9.00m</td>\n",
       "    </tr>\n",
       "    <tr>\n",
       "      <th>16</th>\n",
       "      <td>-</td>\n",
       "      <td>Matías Matías Sosa Matías Matías Sosa  &lt;&gt; Atta...</td>\n",
       "      <td>28</td>\n",
       "      <td>Club Cipolletti</td>\n",
       "      <td>€50Th.</td>\n",
       "    </tr>\n",
       "    <tr>\n",
       "      <th>17</th>\n",
       "      <td>10</td>\n",
       "      <td>Lionel Messi Lionel Messi  &lt;&gt; Right Winger  &lt;&gt;</td>\n",
       "      <td>33</td>\n",
       "      <td>FC Barcelona</td>\n",
       "      <td>€112.00m</td>\n",
       "    </tr>\n",
       "    <tr>\n",
       "      <th>18</th>\n",
       "      <td>11</td>\n",
       "      <td>Lucas Ocampos Lucas Ocampos  &lt;&gt; Right Winger  &lt;&gt;</td>\n",
       "      <td>26</td>\n",
       "      <td>Sevilla FC</td>\n",
       "      <td>€50.00m</td>\n",
       "    </tr>\n",
       "    <tr>\n",
       "      <th>19</th>\n",
       "      <td>21</td>\n",
       "      <td>Paulo Dybala Paulo Dybala  &lt;&gt; Second Striker  &lt;&gt;</td>\n",
       "      <td>26</td>\n",
       "      <td>Juventus FC</td>\n",
       "      <td>€72.00m</td>\n",
       "    </tr>\n",
       "    <tr>\n",
       "      <th>20</th>\n",
       "      <td>22</td>\n",
       "      <td>Lautaro Martínez Lautaro Martínez  &lt;&gt; Centre-F...</td>\n",
       "      <td>22</td>\n",
       "      <td>Inter Milan</td>\n",
       "      <td>€64.00m</td>\n",
       "    </tr>\n",
       "    <tr>\n",
       "      <th>21</th>\n",
       "      <td>9</td>\n",
       "      <td>Sergio Agüero Sergio Agüero  &lt;&gt; Centre-Forward...</td>\n",
       "      <td>32</td>\n",
       "      <td>Manchester City</td>\n",
       "      <td>€52.00m</td>\n",
       "    </tr>\n",
       "    <tr>\n",
       "      <th>22</th>\n",
       "      <td>13</td>\n",
       "      <td>Lucas Alario Lucas Alario  &lt;&gt; Centre-Forward  &lt;&gt;</td>\n",
       "      <td>27</td>\n",
       "      <td>Bayer 04 Leverkusen</td>\n",
       "      <td>€13.50m</td>\n",
       "    </tr>\n",
       "    <tr>\n",
       "      <th>23</th>\n",
       "      <td>24</td>\n",
       "      <td>Nicolás González Nicolás González  &lt;&gt; Centre-F...</td>\n",
       "      <td>22</td>\n",
       "      <td>VfB Stuttgart</td>\n",
       "      <td>€9.00m</td>\n",
       "    </tr>\n",
       "  </tbody>\n",
       "</table>\n",
       "</div>"
      ],
      "text/plain": [
       "     #                                             Player  Age  \\\n",
       "0   12                          Juan Musso <>Goalkepper<>   26   \n",
       "1    6  Germán Pezzella Germán Pezzella  <> Centre-Bac...   29   \n",
       "2   19  Nicolás Otamendi Nicolás Otamendi  <> Centre-B...   32   \n",
       "3    -  Leonardo Balerdi Leonardo Balerdi  <> Centre-B...   21   \n",
       "4   25      Nehuén Pérez Nehuén Pérez  <> Centre-Back  <>   20   \n",
       "5    3  Nicolás Tagliafico Nicolás Tagliafico  <> Left...   27   \n",
       "6    8        Marcos Acuña Marcos Acuña  <> Left-Back  <>   28   \n",
       "7    4     Renzo Saravia Renzo Saravia  <> Right-Back  <>   27   \n",
       "8    5  Leandro Paredes Leandro Paredes  <> Defensive ...   26   \n",
       "9   18  Guido Rodríguez Guido Rodríguez  <> Defensive ...   26   \n",
       "10  20  Giovani Lo Celso Giovani Lo Celso  <> Central ...   24   \n",
       "11   -  Exequiel Palacios Exequiel Palacios  <> Centra...   21   \n",
       "12  17  Nicolás Domínguez Nicolás Domínguez  <> Centra...   22   \n",
       "13  15  Rodrigo de Paul Rodrigo de Paul  <> Attacking ...   26   \n",
       "14   7  Alexis Mac Allister Alexis Mac Allister  <> At...   21   \n",
       "15   7  Roberto Pereyra Roberto Pereyra  <> Attacking ...   29   \n",
       "16   -  Matías Matías Sosa Matías Matías Sosa  <> Atta...   28   \n",
       "17  10     Lionel Messi Lionel Messi  <> Right Winger  <>   33   \n",
       "18  11   Lucas Ocampos Lucas Ocampos  <> Right Winger  <>   26   \n",
       "19  21   Paulo Dybala Paulo Dybala  <> Second Striker  <>   26   \n",
       "20  22  Lautaro Martínez Lautaro Martínez  <> Centre-F...   22   \n",
       "21   9  Sergio Agüero Sergio Agüero  <> Centre-Forward...   32   \n",
       "22  13   Lucas Alario Lucas Alario  <> Centre-Forward  <>   27   \n",
       "23  24  Nicolás González Nicolás González  <> Centre-F...   22   \n",
       "\n",
       "                        Club Market value  \n",
       "0             Udinese Calcio      €12.00m  \n",
       "1             ACF Fiorentina      €14.50m  \n",
       "2            Manchester City      €14.50m  \n",
       "3        Olympique Marseille       €7.20m  \n",
       "4               FC Famalicão       €6.70m  \n",
       "5             Ajax Amsterdam      €28.00m  \n",
       "6                Sporting CP      €12.00m  \n",
       "7   Sport Club Internacional       €3.20m  \n",
       "8        Paris Saint-Germain      €20.00m  \n",
       "9        Real Betis Balompié       €8.00m  \n",
       "10         Tottenham Hotspur      €40.00m  \n",
       "11       Bayer 04 Leverkusen      €18.00m  \n",
       "12           Bologna FC 1909      €15.50m  \n",
       "13            Udinese Calcio      €20.00m  \n",
       "14    Brighton & Hove Albion      €11.00m  \n",
       "15                Watford FC       €9.00m  \n",
       "16           Club Cipolletti       €50Th.  \n",
       "17              FC Barcelona     €112.00m  \n",
       "18                Sevilla FC      €50.00m  \n",
       "19               Juventus FC      €72.00m  \n",
       "20               Inter Milan      €64.00m  \n",
       "21           Manchester City      €52.00m  \n",
       "22       Bayer 04 Leverkusen      €13.50m  \n",
       "23             VfB Stuttgart       €9.00m  "
      ]
     },
     "execution_count": 4,
     "metadata": {},
     "output_type": "execute_result"
    }
   ],
   "source": [
    "df.head(30)"
   ]
  },
  {
   "cell_type": "code",
   "execution_count": 22,
   "metadata": {
    "ExecuteTime": {
     "end_time": "2020-07-30T10:31:05.809804Z",
     "start_time": "2020-07-30T10:31:05.788660Z"
    }
   },
   "outputs": [
    {
     "data": {
      "text/plain": [
       "Udinese Calcio              2\n",
       "Bayer 04 Leverkusen         2\n",
       "Manchester City             2\n",
       "Tottenham Hotspur           1\n",
       "Sevilla FC                  1\n",
       "FC Barcelona                1\n",
       "FC Famalicão                1\n",
       "Bologna FC 1909             1\n",
       "Real Betis Balompié         1\n",
       "Juventus FC                 1\n",
       "Watford FC                  1\n",
       "VfB Stuttgart               1\n",
       "Paris Saint-Germain         1\n",
       "ACF Fiorentina              1\n",
       "Club Cipolletti             1\n",
       "Brighton & Hove Albion      1\n",
       "Sporting CP                 1\n",
       "Inter Milan                 1\n",
       "Sport Club Internacional    1\n",
       "Ajax Amsterdam              1\n",
       "Olympique Marseille         1\n",
       "Name: Club, dtype: int64"
      ]
     },
     "execution_count": 22,
     "metadata": {},
     "output_type": "execute_result"
    }
   ],
   "source": [
    "c = df['Club'].value_counts()\n",
    "c"
   ]
  },
  {
   "cell_type": "code",
   "execution_count": 6,
   "metadata": {
    "ExecuteTime": {
     "end_time": "2020-07-30T10:02:51.766589Z",
     "start_time": "2020-07-30T10:02:51.639495Z"
    }
   },
   "outputs": [
    {
     "data": {
      "text/plain": [
       "26    6\n",
       "27    3\n",
       "22    3\n",
       "21    3\n",
       "29    2\n",
       "28    2\n",
       "32    2\n",
       "24    1\n",
       "20    1\n",
       "33    1\n",
       "Name: Age, dtype: int64"
      ]
     },
     "execution_count": 6,
     "metadata": {},
     "output_type": "execute_result"
    }
   ],
   "source": [
    "b = df['Age'].value_counts()\n",
    "b"
   ]
  },
  {
   "cell_type": "code",
   "execution_count": 8,
   "metadata": {
    "ExecuteTime": {
     "end_time": "2020-07-30T10:03:13.914424Z",
     "start_time": "2020-07-30T10:03:13.896946Z"
    }
   },
   "outputs": [
    {
     "data": {
      "text/plain": [
       "€9.00m      2\n",
       "€20.00m     2\n",
       "€14.50m     2\n",
       "€12.00m     2\n",
       "€28.00m     1\n",
       "€18.00m     1\n",
       "€64.00m     1\n",
       "€40.00m     1\n",
       "€6.70m      1\n",
       "€50Th.      1\n",
       "€15.50m     1\n",
       "€11.00m     1\n",
       "€50.00m     1\n",
       "€112.00m    1\n",
       "€13.50m     1\n",
       "€3.20m      1\n",
       "€72.00m     1\n",
       "€8.00m      1\n",
       "€52.00m     1\n",
       "€7.20m      1\n",
       "Name: Market value, dtype: int64"
      ]
     },
     "execution_count": 8,
     "metadata": {},
     "output_type": "execute_result"
    }
   ],
   "source": [
    "c = df['Market value'].value_counts()\n",
    "c"
   ]
  },
  {
   "cell_type": "code",
   "execution_count": 10,
   "metadata": {
    "ExecuteTime": {
     "end_time": "2020-07-30T10:05:29.075533Z",
     "start_time": "2020-07-30T10:05:29.063553Z"
    }
   },
   "outputs": [
    {
     "data": {
      "text/plain": [
       "0     12\n",
       "1      6\n",
       "2     19\n",
       "3      -\n",
       "4     25\n",
       "5      3\n",
       "6      8\n",
       "7      4\n",
       "8      5\n",
       "9     18\n",
       "10    20\n",
       "11     -\n",
       "12    17\n",
       "13    15\n",
       "14     7\n",
       "15     7\n",
       "16     -\n",
       "17    10\n",
       "18    11\n",
       "19    21\n",
       "20    22\n",
       "21     9\n",
       "22    13\n",
       "23    24\n",
       "Name: #, dtype: object"
      ]
     },
     "execution_count": 10,
     "metadata": {},
     "output_type": "execute_result"
    }
   ],
   "source": [
    "d = df['#']\n",
    "d"
   ]
  },
  {
   "cell_type": "code",
   "execution_count": 28,
   "metadata": {
    "ExecuteTime": {
     "end_time": "2020-07-30T10:32:50.292938Z",
     "start_time": "2020-07-30T10:32:50.254464Z"
    }
   },
   "outputs": [],
   "source": [
    "def number(a):\n",
    "        if a  ==12:\n",
    "             print(df['Player'][ 0])\n",
    "        elif a ==6:\n",
    "             print(df['Player'][ 1])\n",
    "        elif a ==19:\n",
    "             print(df['Player'][ 2])\n",
    "        elif a == 0:\n",
    "             print(df['Player'][ 3])\n",
    "        elif a ==25:\n",
    "             print(df['Player'][ 4])\n",
    "        elif a ==3:\n",
    "             print(df['Player'][ 5])\n",
    "        elif a ==8:\n",
    "             print(df['Player'][ 6])\n",
    "        elif a ==4:\n",
    "             print(df['Player'][ 7])\n",
    "        elif a ==5:\n",
    "             print(df['Player'][ 8])\n",
    "        elif a ==18:\n",
    "             print(df['Player'][ 9])\n",
    "        elif a ==20:\n",
    "             print(df['Player'][ 10])\n",
    "        elif a == 0:\n",
    "             print(df['Player'][ 11])\n",
    "        elif a ==17:\n",
    "             print(df['Player'][ 12])\n",
    "        elif a ==15:\n",
    "             print(df['Player'][ 13])\n",
    "        elif a ==7:\n",
    "             print(df['Player'][ 14])\n",
    "        elif a ==7:\n",
    "             print(df['Player'][ 15])\n",
    "        elif a==100:\n",
    "             print(df['Player'][ 16])\n",
    "        elif a ==10:\n",
    "             print(df['Player'][ 17])\n",
    "        elif a ==11:\n",
    "             print(df['Player'][ 18])\n",
    "        elif a ==21:\n",
    "             print(df['Player'][ 19])\n",
    "        elif a ==22:\n",
    "             print(df['Player'][ 20])\n",
    "        elif a ==9:\n",
    "             print(df['Player'][ 21])\n",
    "        elif a ==13:\n",
    "             print(df['Player'][ 22])\n",
    "        elif a ==24:\n",
    "             print(df['Player'][ 23])"
   ]
  },
  {
   "cell_type": "code",
   "execution_count": 30,
   "metadata": {
    "ExecuteTime": {
     "end_time": "2020-07-30T10:38:50.755086Z",
     "start_time": "2020-07-30T10:38:47.412856Z"
    }
   },
   "outputs": [
    {
     "name": "stdout",
     "output_type": "stream",
     "text": [
      "Enter a number on the Argentian National Team you wish to see(Shirt number)10\n",
      "Lionel Messi Lionel Messi  <> Right Winger  <>\n"
     ]
    }
   ],
   "source": [
    "a = input(\"Enter a number on the Argentian National Team you wish to see(Shirt number)\")\n",
    "a = int(a)\n",
    "number(a)"
   ]
  },
  {
   "cell_type": "code",
   "execution_count": null,
   "metadata": {},
   "outputs": [],
   "source": []
  }
 ],
 "metadata": {
  "kernelspec": {
   "display_name": "Python 3",
   "language": "python",
   "name": "python3"
  },
  "language_info": {
   "codemirror_mode": {
    "name": "ipython",
    "version": 3
   },
   "file_extension": ".py",
   "mimetype": "text/x-python",
   "name": "python",
   "nbconvert_exporter": "python",
   "pygments_lexer": "ipython3",
   "version": "3.7.7"
  }
 },
 "nbformat": 4,
 "nbformat_minor": 4
}
