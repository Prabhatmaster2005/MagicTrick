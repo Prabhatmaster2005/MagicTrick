{
 "cells": [
  {
   "cell_type": "code",
   "execution_count": 3,
   "metadata": {
    "ExecuteTime": {
     "end_time": "2020-07-18T05:04:42.554882Z",
     "start_time": "2020-07-18T05:04:17.579532Z"
    }
   },
   "outputs": [],
   "source": [
    "import pandas as pd\n",
    "import numpy as np\n",
    "import matplotlib.pyplot as plt"
   ]
  },
  {
   "cell_type": "code",
   "execution_count": 9,
   "metadata": {
    "ExecuteTime": {
     "end_time": "2020-07-18T05:17:41.834082Z",
     "start_time": "2020-07-18T05:17:41.828237Z"
    }
   },
   "outputs": [],
   "source": [
    "file = 'Actor data.csv'"
   ]
  },
  {
   "cell_type": "code",
   "execution_count": 10,
   "metadata": {
    "ExecuteTime": {
     "end_time": "2020-07-18T05:17:42.674114Z",
     "start_time": "2020-07-18T05:17:42.424686Z"
    }
   },
   "outputs": [],
   "source": [
    "df = pd.read_csv(file)"
   ]
  },
  {
   "cell_type": "code",
   "execution_count": 35,
   "metadata": {
    "ExecuteTime": {
     "end_time": "2020-07-18T06:41:08.553299Z",
     "start_time": "2020-07-18T06:41:08.448302Z"
    }
   },
   "outputs": [
    {
     "data": {
      "text/html": [
       "<div>\n",
       "<style scoped>\n",
       "    .dataframe tbody tr th:only-of-type {\n",
       "        vertical-align: middle;\n",
       "    }\n",
       "\n",
       "    .dataframe tbody tr th {\n",
       "        vertical-align: top;\n",
       "    }\n",
       "\n",
       "    .dataframe thead th {\n",
       "        text-align: right;\n",
       "    }\n",
       "</style>\n",
       "<table border=\"1\" class=\"dataframe\">\n",
       "  <thead>\n",
       "    <tr style=\"text-align: right;\">\n",
       "      <th></th>\n",
       "      <th>Actor</th>\n",
       "      <th>Film</th>\n",
       "      <th>Year</th>\n",
       "      <th>Salary</th>\n",
       "      <th>Total income</th>\n",
       "      <th>Ref</th>\n",
       "    </tr>\n",
       "  </thead>\n",
       "  <tbody>\n",
       "    <tr>\n",
       "      <th>0</th>\n",
       "      <td>Keanu Reeves</td>\n",
       "      <td>The Matrix ReloadedThe Matrix Revolutions</td>\n",
       "      <td>2003</td>\n",
       "      <td>$30,000,000</td>\n",
       "      <td>$156,000,000</td>\n",
       "      <td>[1]</td>\n",
       "    </tr>\n",
       "    <tr>\n",
       "      <th>1</th>\n",
       "      <td>Bruce Willis</td>\n",
       "      <td>The Sixth Sense</td>\n",
       "      <td>1999</td>\n",
       "      <td>$14,000,000</td>\n",
       "      <td>$100,000,000</td>\n",
       "      <td>[1]</td>\n",
       "    </tr>\n",
       "    <tr>\n",
       "      <th>2</th>\n",
       "      <td>Tom Cruise</td>\n",
       "      <td>Mission: Impossible 2</td>\n",
       "      <td>2000</td>\n",
       "      <td>NaN</td>\n",
       "      <td>$100,000,000</td>\n",
       "      <td>[1]</td>\n",
       "    </tr>\n",
       "    <tr>\n",
       "      <th>3</th>\n",
       "      <td>Tom Cruise</td>\n",
       "      <td>War of the Worlds</td>\n",
       "      <td>2005</td>\n",
       "      <td>NaN</td>\n",
       "      <td>$100,000,000</td>\n",
       "      <td>[1]</td>\n",
       "    </tr>\n",
       "    <tr>\n",
       "      <th>4</th>\n",
       "      <td>Will Smith</td>\n",
       "      <td>Men in Black 3</td>\n",
       "      <td>2012</td>\n",
       "      <td>NaN</td>\n",
       "      <td>$100,000,000</td>\n",
       "      <td>[2]</td>\n",
       "    </tr>\n",
       "    <tr>\n",
       "      <th>5</th>\n",
       "      <td>Robert Downey Jr.</td>\n",
       "      <td>Avengers: Infinity War</td>\n",
       "      <td>2018</td>\n",
       "      <td>NaN</td>\n",
       "      <td>$75,000,000+</td>\n",
       "      <td>[3]</td>\n",
       "    </tr>\n",
       "    <tr>\n",
       "      <th>6</th>\n",
       "      <td>Robert Downey Jr.</td>\n",
       "      <td>Avengers: Endgame</td>\n",
       "      <td>2019</td>\n",
       "      <td>$20,000,000</td>\n",
       "      <td>$75,000,000</td>\n",
       "      <td>[4]</td>\n",
       "    </tr>\n",
       "    <tr>\n",
       "      <th>7</th>\n",
       "      <td>Robert Downey Jr.</td>\n",
       "      <td>Iron Man 3</td>\n",
       "      <td>2013</td>\n",
       "      <td>NaN</td>\n",
       "      <td>$75,000,000</td>\n",
       "      <td>[5]</td>\n",
       "    </tr>\n",
       "    <tr>\n",
       "      <th>8</th>\n",
       "      <td>Sandra Bullock</td>\n",
       "      <td>Gravity</td>\n",
       "      <td>2013</td>\n",
       "      <td>$20,000,000</td>\n",
       "      <td>$70,000,000+</td>\n",
       "      <td>[6]</td>\n",
       "    </tr>\n",
       "    <tr>\n",
       "      <th>9</th>\n",
       "      <td>Tom Hanks</td>\n",
       "      <td>Forrest Gump</td>\n",
       "      <td>1994</td>\n",
       "      <td>NaN</td>\n",
       "      <td>$70,000,000</td>\n",
       "      <td>[1]</td>\n",
       "    </tr>\n",
       "    <tr>\n",
       "      <th>10</th>\n",
       "      <td>Tom Cruise</td>\n",
       "      <td>Mission: Impossible</td>\n",
       "      <td>1996</td>\n",
       "      <td>NaN</td>\n",
       "      <td>$70,000,000</td>\n",
       "      <td>[1]</td>\n",
       "    </tr>\n",
       "    <tr>\n",
       "      <th>11</th>\n",
       "      <td>Harrison Ford</td>\n",
       "      <td>Indiana Jones and the Kingdom of the Crystal S...</td>\n",
       "      <td>2008</td>\n",
       "      <td>NaN</td>\n",
       "      <td>$65,000,000</td>\n",
       "      <td>[7]</td>\n",
       "    </tr>\n",
       "    <tr>\n",
       "      <th>12</th>\n",
       "      <td>Jack Nicholson</td>\n",
       "      <td>Batman</td>\n",
       "      <td>1989</td>\n",
       "      <td>$6,000,000</td>\n",
       "      <td>$60,000,000</td>\n",
       "      <td>[1][8]</td>\n",
       "    </tr>\n",
       "    <tr>\n",
       "      <th>13</th>\n",
       "      <td>Leonardo DiCaprio</td>\n",
       "      <td>Inception</td>\n",
       "      <td>2010</td>\n",
       "      <td>NaN</td>\n",
       "      <td>$59,000,000</td>\n",
       "      <td>[9]</td>\n",
       "    </tr>\n",
       "    <tr>\n",
       "      <th>14</th>\n",
       "      <td>Johnny Depp</td>\n",
       "      <td>Pirates of the Caribbean: On Stranger Tides</td>\n",
       "      <td>2011</td>\n",
       "      <td>$35,000,000</td>\n",
       "      <td>$55,000,000</td>\n",
       "      <td>[9][10]</td>\n",
       "    </tr>\n",
       "    <tr>\n",
       "      <th>15</th>\n",
       "      <td>Robert Downey Jr.</td>\n",
       "      <td>The Avengers</td>\n",
       "      <td>2012</td>\n",
       "      <td>NaN</td>\n",
       "      <td>$50,000,000</td>\n",
       "      <td>[11]</td>\n",
       "    </tr>\n",
       "    <tr>\n",
       "      <th>16</th>\n",
       "      <td>Cameron Diaz</td>\n",
       "      <td>Bad Teacher</td>\n",
       "      <td>2011</td>\n",
       "      <td>NaN</td>\n",
       "      <td>$42,000,000</td>\n",
       "      <td>[12]</td>\n",
       "    </tr>\n",
       "    <tr>\n",
       "      <th>17</th>\n",
       "      <td>Robert Downey Jr.</td>\n",
       "      <td>Captain America: Civil War</td>\n",
       "      <td>2016</td>\n",
       "      <td>$40,000,000</td>\n",
       "      <td>$40,000,000+</td>\n",
       "      <td>[5]</td>\n",
       "    </tr>\n",
       "    <tr>\n",
       "      <th>18</th>\n",
       "      <td>Robert Downey Jr.</td>\n",
       "      <td>Avengers: Age of Ultron</td>\n",
       "      <td>2015</td>\n",
       "      <td>NaN</td>\n",
       "      <td>$40,000,000</td>\n",
       "      <td>[13]</td>\n",
       "    </tr>\n",
       "    <tr>\n",
       "      <th>19</th>\n",
       "      <td>Leonardo DiCaprio</td>\n",
       "      <td>Titanic</td>\n",
       "      <td>1997</td>\n",
       "      <td>NaN</td>\n",
       "      <td>$40,000,000</td>\n",
       "      <td>[1]</td>\n",
       "    </tr>\n",
       "    <tr>\n",
       "      <th>20</th>\n",
       "      <td>Tom Hanks</td>\n",
       "      <td>Saving Private Ryan</td>\n",
       "      <td>1998</td>\n",
       "      <td>NaN</td>\n",
       "      <td>$40,000,000</td>\n",
       "      <td>[1]</td>\n",
       "    </tr>\n",
       "    <tr>\n",
       "      <th>21</th>\n",
       "      <td>Johnny Depp</td>\n",
       "      <td>Alice in Wonderland</td>\n",
       "      <td>2010</td>\n",
       "      <td>NaN</td>\n",
       "      <td>$40,000,000</td>\n",
       "      <td>[9]</td>\n",
       "    </tr>\n",
       "    <tr>\n",
       "      <th>22</th>\n",
       "      <td>Aamir Khan</td>\n",
       "      <td>Dangal</td>\n",
       "      <td>2016</td>\n",
       "      <td>NaN</td>\n",
       "      <td>$39,000,000</td>\n",
       "      <td>[nb 1][15][16]</td>\n",
       "    </tr>\n",
       "    <tr>\n",
       "      <th>23</th>\n",
       "      <td>Jim Carrey</td>\n",
       "      <td>Yes Man</td>\n",
       "      <td>2008</td>\n",
       "      <td>NaN</td>\n",
       "      <td>$35,000,000</td>\n",
       "      <td>[17]</td>\n",
       "    </tr>\n",
       "    <tr>\n",
       "      <th>24</th>\n",
       "      <td>Arnold Schwarzenegger</td>\n",
       "      <td>Terminator 3: Rise of the Machines</td>\n",
       "      <td>2003</td>\n",
       "      <td>$29,250,000</td>\n",
       "      <td>$30,000,000+</td>\n",
       "      <td>[nb 2][1]</td>\n",
       "    </tr>\n",
       "    <tr>\n",
       "      <th>25</th>\n",
       "      <td>Mel Gibson</td>\n",
       "      <td>Lethal Weapon 4</td>\n",
       "      <td>1998</td>\n",
       "      <td>$30,000,000</td>\n",
       "      <td>$30,000,000</td>\n",
       "      <td>[1]</td>\n",
       "    </tr>\n",
       "  </tbody>\n",
       "</table>\n",
       "</div>"
      ],
      "text/plain": [
       "                    Actor                                               Film  \\\n",
       "0            Keanu Reeves          The Matrix ReloadedThe Matrix Revolutions   \n",
       "1            Bruce Willis                                    The Sixth Sense   \n",
       "2              Tom Cruise                              Mission: Impossible 2   \n",
       "3              Tom Cruise                                  War of the Worlds   \n",
       "4              Will Smith                                     Men in Black 3   \n",
       "5       Robert Downey Jr.                             Avengers: Infinity War   \n",
       "6       Robert Downey Jr.                                  Avengers: Endgame   \n",
       "7       Robert Downey Jr.                                         Iron Man 3   \n",
       "8          Sandra Bullock                                            Gravity   \n",
       "9               Tom Hanks                                       Forrest Gump   \n",
       "10             Tom Cruise                                Mission: Impossible   \n",
       "11          Harrison Ford  Indiana Jones and the Kingdom of the Crystal S...   \n",
       "12         Jack Nicholson                                             Batman   \n",
       "13      Leonardo DiCaprio                                          Inception   \n",
       "14            Johnny Depp        Pirates of the Caribbean: On Stranger Tides   \n",
       "15      Robert Downey Jr.                                       The Avengers   \n",
       "16           Cameron Diaz                                        Bad Teacher   \n",
       "17      Robert Downey Jr.                         Captain America: Civil War   \n",
       "18      Robert Downey Jr.                            Avengers: Age of Ultron   \n",
       "19      Leonardo DiCaprio                                            Titanic   \n",
       "20              Tom Hanks                                Saving Private Ryan   \n",
       "21            Johnny Depp                                Alice in Wonderland   \n",
       "22             Aamir Khan                                             Dangal   \n",
       "23             Jim Carrey                                            Yes Man   \n",
       "24  Arnold Schwarzenegger                 Terminator 3: Rise of the Machines   \n",
       "25             Mel Gibson                                    Lethal Weapon 4   \n",
       "\n",
       "    Year       Salary  Total income             Ref  \n",
       "0   2003  $30,000,000  $156,000,000             [1]  \n",
       "1   1999  $14,000,000  $100,000,000             [1]  \n",
       "2   2000          NaN  $100,000,000             [1]  \n",
       "3   2005          NaN  $100,000,000             [1]  \n",
       "4   2012          NaN  $100,000,000             [2]  \n",
       "5   2018          NaN  $75,000,000+             [3]  \n",
       "6   2019  $20,000,000   $75,000,000             [4]  \n",
       "7   2013          NaN   $75,000,000             [5]  \n",
       "8   2013  $20,000,000  $70,000,000+             [6]  \n",
       "9   1994          NaN   $70,000,000             [1]  \n",
       "10  1996          NaN   $70,000,000             [1]  \n",
       "11  2008          NaN   $65,000,000             [7]  \n",
       "12  1989   $6,000,000   $60,000,000          [1][8]  \n",
       "13  2010          NaN   $59,000,000             [9]  \n",
       "14  2011  $35,000,000   $55,000,000         [9][10]  \n",
       "15  2012          NaN   $50,000,000            [11]  \n",
       "16  2011          NaN   $42,000,000            [12]  \n",
       "17  2016  $40,000,000  $40,000,000+             [5]  \n",
       "18  2015          NaN   $40,000,000            [13]  \n",
       "19  1997          NaN   $40,000,000             [1]  \n",
       "20  1998          NaN   $40,000,000             [1]  \n",
       "21  2010          NaN   $40,000,000             [9]  \n",
       "22  2016          NaN   $39,000,000  [nb 1][15][16]  \n",
       "23  2008          NaN   $35,000,000            [17]  \n",
       "24  2003  $29,250,000  $30,000,000+       [nb 2][1]  \n",
       "25  1998  $30,000,000   $30,000,000             [1]  "
      ]
     },
     "execution_count": 35,
     "metadata": {},
     "output_type": "execute_result"
    }
   ],
   "source": [
    "df.head(26)"
   ]
  },
  {
   "cell_type": "code",
   "execution_count": 41,
   "metadata": {
    "ExecuteTime": {
     "end_time": "2020-07-18T06:47:08.966752Z",
     "start_time": "2020-07-18T06:47:08.668550Z"
    }
   },
   "outputs": [
    {
     "name": "stdout",
     "output_type": "stream",
     "text": [
      "Robert Downey Jr.        6\n",
      "Tom Cruise               3\n",
      "Tom Hanks                2\n",
      "Leonardo DiCaprio        2\n",
      "Johnny Depp              2\n",
      "Keanu Reeves             1\n",
      "Arnold Schwarzenegger    1\n",
      "Mel Gibson               1\n",
      "Brad Pitt                1\n",
      "Sandra Bullock           1\n",
      "Cameron Diaz             1\n",
      "Jack Nicholson           1\n",
      "Harrison Ford            1\n",
      "Aamir Khan               1\n",
      "Will Smith               1\n",
      "Jim Carrey               1\n",
      "Bruce Willis             1\n",
      "Name: Actor, dtype: int64\n"
     ]
    }
   ],
   "source": [
    "a = df['Actor'].value_counts()\n",
    "print(a)"
   ]
  },
  {
   "cell_type": "code",
   "execution_count": 24,
   "metadata": {
    "ExecuteTime": {
     "end_time": "2020-07-18T05:26:07.467941Z",
     "start_time": "2020-07-18T05:26:07.449714Z"
    }
   },
   "outputs": [],
   "source": [
    "%matplotlib inline\n",
    "plt.rcParams['figure.figsize']=20,15"
   ]
  },
  {
   "cell_type": "code",
   "execution_count": 46,
   "metadata": {
    "ExecuteTime": {
     "end_time": "2020-07-18T07:06:38.380434Z",
     "start_time": "2020-07-18T07:06:37.706578Z"
    }
   },
   "outputs": [
    {
     "name": "stdout",
     "output_type": "stream",
     "text": [
      "2016    2\n",
      "2012    2\n",
      "2011    2\n",
      "2010    2\n",
      "2008    2\n",
      "2003    2\n",
      "2013    2\n",
      "1998    2\n",
      "1996    1\n",
      "2018    1\n",
      "2019    1\n",
      "1989    1\n",
      "1994    1\n",
      "2015    1\n",
      "1997    1\n",
      "1999    1\n",
      "2001    1\n",
      "2005    1\n",
      "2000    1\n",
      "Name: Year, dtype: int64\n"
     ]
    },
    {
     "data": {
      "text/plain": [
       "<function matplotlib.pyplot.show(*args, **kw)>"
      ]
     },
     "execution_count": 46,
     "metadata": {},
     "output_type": "execute_result"
    },
    {
     "data": {
      "image/png": "[encoded data removed]",
      "text/plain": [
       "<Figure size 1440x1080 with 1 Axes>"
      ]
     },
     "metadata": {
      "needs_background": "light"
     },
     "output_type": "display_data"
    }
   ],
   "source": [
    "b = df['Year'].value_counts()\n",
    "print(b)\n",
    "plt.plot(b)\n",
    "plt.show"
   ]
  },
  {
   "cell_type": "code",
   "execution_count": 44,
   "metadata": {
    "ExecuteTime": {
     "end_time": "2020-07-18T06:55:18.298863Z",
     "start_time": "2020-07-18T06:55:17.704858Z"
    }
   },
   "outputs": [
    {
     "name": "stdout",
     "output_type": "stream",
     "text": [
      "$100,000,000    4\n",
      "$40,000,000     4\n",
      "$30,000,000     2\n",
      "$75,000,000     2\n",
      "$70,000,000     2\n",
      "$42,000,000     1\n",
      "$60,000,000     1\n",
      "$65,000,000     1\n",
      "$35,000,000     1\n",
      "$70,000,000+    1\n",
      "$50,000,000     1\n",
      "$59,000,000     1\n",
      "$75,000,000+    1\n",
      "$30,000,000+    1\n",
      "$39,000,000     1\n",
      "$40,000,000+    1\n",
      "$55,000,000     1\n",
      "$156,000,000    1\n",
      "Name: Total income, dtype: int64\n"
     ]
    },
    {
     "data": {
      "text/plain": [
       "[<matplotlib.lines.Line2D at 0x1d243732e48>]"
      ]
     },
     "execution_count": 44,
     "metadata": {},
     "output_type": "execute_result"
    },
    {
     "data": {
      "image/png": "[encoded data removed]",
      "text/plain": [
       "<Figure size 1440x1080 with 1 Axes>"
      ]
     },
     "metadata": {
      "needs_background": "light"
     },
     "output_type": "display_data"
    }
   ],
   "source": [
    "c = df['Total income'].value_counts()\n",
    "print(c)\n",
    "plt.plot(c)"
   ]
  },
  {
   "cell_type": "code",
   "execution_count": 45,
   "metadata": {
    "ExecuteTime": {
     "end_time": "2020-07-18T07:06:03.476891Z",
     "start_time": "2020-07-18T07:06:03.057161Z"
    }
   },
   "outputs": [
    {
     "name": "stdout",
     "output_type": "stream",
     "text": [
      "$30,000,000    2\n",
      "$20,000,000    2\n",
      "$40,000,000    1\n",
      "$35,000,000    1\n",
      "$14,000,000    1\n",
      "$29,250,000    1\n",
      "$10,000,000    1\n",
      "$6,000,000     1\n",
      "Name: Salary, dtype: int64\n"
     ]
    },
    {
     "data": {
      "image/png": "[encoded data removed]",
      "text/plain": [
       "<Figure size 1440x1080 with 1 Axes>"
      ]
     },
     "metadata": {
      "needs_background": "light"
     },
     "output_type": "display_data"
    }
   ],
   "source": [
    "d = df['Salary'].value_counts()\n",
    "print(d)\n",
    "plt.plot(d)\n",
    "plt.show()"
   ]
  },
  {
   "cell_type": "code",
   "execution_count": null,
   "metadata": {},
   "outputs": [],
   "source": []
  }
 ],
 "metadata": {
  "kernelspec": {
   "display_name": "Python 3",
   "language": "python",
   "name": "python3"
  },
  "language_info": {
   "codemirror_mode": {
    "name": "ipython",
    "version": 3
   },
   "file_extension": ".py",
   "mimetype": "text/x-python",
   "name": "python",
   "nbconvert_exporter": "python",
   "pygments_lexer": "ipython3",
   "version": "3.7.7"
  }
 },
 "nbformat": 4,
 "nbformat_minor": 4
}
